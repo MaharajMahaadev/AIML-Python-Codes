{
 "cells": [
  {
   "cell_type": "markdown",
   "metadata": {
    "id": "vgyOkrXtDmEO"
   },
   "source": [
    "Load Neccesary library"
   ]
  },
  {
   "cell_type": "code",
   "execution_count": 1,
   "metadata": {
    "executionInfo": {
     "elapsed": 2452,
     "status": "ok",
     "timestamp": 1667050414848,
     "user": {
      "displayName": "Yaswanth Togarapu",
      "userId": "15517719365717899116"
     },
     "user_tz": -330
    },
    "id": "5CfU058P8x9J"
   },
   "outputs": [],
   "source": [
    "import pandas as pd\n",
    "import numpy as np\n",
    "import tensorflow as tf\n",
    "from tensorflow.keras import datasets\n",
    "from tensorflow.keras import Sequential,layers"
   ]
  },
  {
   "cell_type": "markdown",
   "metadata": {
    "id": "FzglwPglDqiw"
   },
   "source": [
    "Load dataset"
   ]
  },
  {
   "cell_type": "code",
   "execution_count": 2,
   "metadata": {
    "colab": {
     "base_uri": "https://localhost:8080/"
    },
    "executionInfo": {
     "elapsed": 8119,
     "status": "ok",
     "timestamp": 1667050425899,
     "user": {
      "displayName": "Yaswanth Togarapu",
      "userId": "15517719365717899116"
     },
     "user_tz": -330
    },
    "id": "pzPR6O-nDvsA",
    "outputId": "13b7dab8-b9da-4de3-d4ed-12d5877e7893"
   },
   "outputs": [
    {
     "name": "stdout",
     "output_type": "stream",
     "text": [
      "Downloading data from https://www.cs.toronto.edu/~kriz/cifar-100-python.tar.gz\n",
      "169001437/169001437 [==============================] - 2s 0us/step\n"
     ]
    }
   ],
   "source": [
    "(x_train, y_train), (x_test, y_test) = datasets.cifar100.load_data()"
   ]
  },
  {
   "cell_type": "code",
   "execution_count": 3,
   "metadata": {
    "colab": {
     "base_uri": "https://localhost:8080/"
    },
    "executionInfo": {
     "elapsed": 16,
     "status": "ok",
     "timestamp": 1667050425899,
     "user": {
      "displayName": "Yaswanth Togarapu",
      "userId": "15517719365717899116"
     },
     "user_tz": -330
    },
    "id": "8LnieU7kwWwh",
    "outputId": "fc30b338-ca10-413f-b14a-c928a67d5f7f"
   },
   "outputs": [
    {
     "data": {
      "text/plain": [
       "((50000, 32, 32, 3), (50000, 1))"
      ]
     },
     "execution_count": 3,
     "metadata": {},
     "output_type": "execute_result"
    }
   ],
   "source": [
    "x_train.shape,y_train.shape"
   ]
  },
  {
   "cell_type": "code",
   "execution_count": 4,
   "metadata": {
    "colab": {
     "base_uri": "https://localhost:8080/",
     "height": 283
    },
    "executionInfo": {
     "elapsed": 16,
     "status": "ok",
     "timestamp": 1667050425900,
     "user": {
      "displayName": "Yaswanth Togarapu",
      "userId": "15517719365717899116"
     },
     "user_tz": -330
    },
    "id": "gOu85yuwwbei",
    "outputId": "9ec309bb-7848-4ff8-9c64-3f364543bdae"
   },
   "outputs": [
    {
     "name": "stdout",
     "output_type": "stream",
     "text": [
      "[19]\n"
     ]
    },
    {
     "data": {
      "image/png": "[encoded data removed]",
      "text/plain": [
       "<Figure size 432x288 with 1 Axes>"
      ]
     },
     "metadata": {
      "needs_background": "light"
     },
     "output_type": "display_data"
    }
   ],
   "source": [
    "import matplotlib.pyplot as plt\n",
    "plt.imshow(x_train[0])\n",
    "print(y_train[0])"
   ]
  },
  {
   "cell_type": "markdown",
   "metadata": {
    "id": "a3T9TL2lDwct"
   },
   "source": [
    "Create a deep learning model withh 5 hidden layers. analyse data and figure out configuration of input and output layer. "
   ]
  },
  {
   "cell_type": "code",
   "execution_count": null,
   "metadata": {
    "id": "mxhHhokhECen"
   },
   "outputs": [],
   "source": [
    "\n",
    "model = Sequential([\n",
    "    layers.Flatten(),\n",
    "    layers.Dense(1024,activation=\"relu\"),\n",
    "    layers.Dense(512,activation=\"relu\"),\n",
    "    layers.Dropout(0.5),\n",
    "    layers.Dense(512,activation=\"relu\"),\n",
    "    layers.Dense(256,activation=\"relu\"),\n",
    "    layers.Dropout(0.5),\n",
    "    layers.Dense(256,activation=\"relu\"),\n",
    "    layers.Dense(100,activation=\"softmax\")\n",
    "])\n",
    "\n",
    "model.compile(\n",
    "    metrics=[\"accuracy\"],optimizer=\"adam\",\n",
    "    loss=\"categorical_crossentropy\"\n",
    ")\n"
   ]
  },
  {
   "cell_type": "code",
   "execution_count": null,
   "metadata": {
    "id": "JMgzwfed32jP"
   },
   "outputs": [],
   "source": [
    "y_train = tf.keras.utils.to_categorical(y_train, 100)\n",
    "y_test = tf.keras.utils.to_categorical(y_test, 100)\n",
    "x_train=x_train/255.0\n",
    "x_test=x_test/255.0"
   ]
  },
  {
   "cell_type": "code",
   "execution_count": null,
   "metadata": {
    "colab": {
     "base_uri": "https://localhost:8080/"
    },
    "executionInfo": {
     "elapsed": 427,
     "status": "ok",
     "timestamp": 1666970434489,
     "user": {
      "displayName": "Yaswanth Togarapu",
      "userId": "15517719365717899116"
     },
     "user_tz": -330
    },
    "id": "syhnyYt_8ut6",
    "outputId": "66f88d1a-fb44-4c41-c289-efda7eb84d04"
   },
   "outputs": [
    {
     "data": {
      "text/plain": [
       "array([[0., 0., 0., ..., 0., 0., 0.],\n",
       "       [0., 0., 0., ..., 0., 0., 0.],\n",
       "       [1., 0., 0., ..., 0., 0., 0.],\n",
       "       ...,\n",
       "       [0., 0., 0., ..., 0., 0., 0.],\n",
       "       [0., 0., 0., ..., 0., 0., 0.],\n",
       "       [0., 0., 0., ..., 0., 0., 0.]], dtype=float32)"
      ]
     },
     "execution_count": 7,
     "metadata": {},
     "output_type": "execute_result"
    }
   ],
   "source": [
    "y_train"
   ]
  },
  {
   "cell_type": "code",
   "execution_count": null,
   "metadata": {
    "colab": {
     "base_uri": "https://localhost:8080/"
    },
    "executionInfo": {
     "elapsed": 1302725,
     "status": "ok",
     "timestamp": 1666968253526,
     "user": {
      "displayName": "Yaswanth Togarapu",
      "userId": "15517719365717899116"
     },
     "user_tz": -330
    },
    "id": "zS5N5kvw4ogZ",
    "outputId": "72335772-8b2b-4e5e-e0d4-ab1e21adbc5c"
   },
   "outputs": [
    {
     "name": "stdout",
     "output_type": "stream",
     "text": [
      "Epoch 1/500\n",
      "500/500 [==============================] - 3s 5ms/step - loss: 4.4880 - accuracy: 0.0211 - val_loss: 4.2144 - val_accuracy: 0.0458\n",
      "Epoch 2/500\n",
      "500/500 [==============================] - 2s 4ms/step - loss: 4.1405 - accuracy: 0.0555 - val_loss: 4.0222 - val_accuracy: 0.0686\n",
      "Epoch 3/500\n",
      "500/500 [==============================] - 2s 4ms/step - loss: 4.0143 - accuracy: 0.0700 - val_loss: 3.9143 - val_accuracy: 0.0844\n",
      "Epoch 4/500\n",
      "500/500 [==============================] - 2s 4ms/step - loss: 3.9282 - accuracy: 0.0843 - val_loss: 3.8732 - val_accuracy: 0.0913\n",
      "Epoch 5/500\n",
      "500/500 [==============================] - 2s 4ms/step - loss: 3.8703 - accuracy: 0.0935 - val_loss: 3.8184 - val_accuracy: 0.1039\n",
      "Epoch 6/500\n",
      "500/500 [==============================] - 2s 5ms/step - loss: 3.8191 - accuracy: 0.1016 - val_loss: 3.7767 - val_accuracy: 0.1101\n",
      "Epoch 7/500\n",
      "500/500 [==============================] - 2s 4ms/step - loss: 3.7815 - accuracy: 0.1075 - val_loss: 3.7160 - val_accuracy: 0.1290\n",
      "Epoch 8/500\n",
      "500/500 [==============================] - 3s 6ms/step - loss: 3.7617 - accuracy: 0.1111 - val_loss: 3.6864 - val_accuracy: 0.1292\n",
      "Epoch 9/500\n",
      "500/500 [==============================] - 2s 5ms/step - loss: 3.7241 - accuracy: 0.1171 - val_loss: 3.6623 - val_accuracy: 0.1388\n",
      "Epoch 10/500\n",
      "500/500 [==============================] - 2s 5ms/step - loss: 3.6981 - accuracy: 0.1215 - val_loss: 3.6606 - val_accuracy: 0.1353\n",
      "Epoch 11/500\n",
      "500/500 [==============================] - 2s 4ms/step - loss: 3.6831 - accuracy: 0.1249 - val_loss: 3.6440 - val_accuracy: 0.1344\n",
      "Epoch 12/500\n",
      "500/500 [==============================] - 2s 5ms/step - loss: 3.6560 - accuracy: 0.1297 - val_loss: 3.6203 - val_accuracy: 0.1412\n",
      "Epoch 13/500\n",
      "500/500 [==============================] - 2s 5ms/step - loss: 3.6362 - accuracy: 0.1332 - val_loss: 3.6439 - val_accuracy: 0.1363\n",
      "Epoch 14/500\n",
      "500/500 [==============================] - 2s 5ms/step - loss: 3.6186 - accuracy: 0.1359 - val_loss: 3.5976 - val_accuracy: 0.1455\n",
      "Epoch 15/500\n",
      "500/500 [==============================] - 2s 4ms/step - loss: 3.5985 - accuracy: 0.1391 - val_loss: 3.6046 - val_accuracy: 0.1478\n",
      "Epoch 16/500\n",
      "500/500 [==============================] - 2s 4ms/step - loss: 3.5821 - accuracy: 0.1413 - val_loss: 3.5411 - val_accuracy: 0.1555\n",
      "Epoch 17/500\n",
      "500/500 [==============================] - 2s 5ms/step - loss: 3.5659 - accuracy: 0.1413 - val_loss: 3.5570 - val_accuracy: 0.1575\n",
      "Epoch 18/500\n",
      "500/500 [==============================] - 2s 5ms/step - loss: 3.5583 - accuracy: 0.1439 - val_loss: 3.5481 - val_accuracy: 0.1546\n",
      "Epoch 19/500\n",
      "500/500 [==============================] - 2s 5ms/step - loss: 3.5479 - accuracy: 0.1454 - val_loss: 3.5305 - val_accuracy: 0.1566\n",
      "Epoch 20/500\n",
      "500/500 [==============================] - 2s 4ms/step - loss: 3.5362 - accuracy: 0.1487 - val_loss: 3.5350 - val_accuracy: 0.1590\n",
      "Epoch 21/500\n",
      "500/500 [==============================] - 2s 5ms/step - loss: 3.5238 - accuracy: 0.1502 - val_loss: 3.5567 - val_accuracy: 0.1567\n",
      "Epoch 22/500\n",
      "500/500 [==============================] - 2s 5ms/step - loss: 3.5177 - accuracy: 0.1523 - val_loss: 3.5155 - val_accuracy: 0.1619\n",
      "Epoch 23/500\n",
      "500/500 [==============================] - 2s 4ms/step - loss: 3.5016 - accuracy: 0.1534 - val_loss: 3.4924 - val_accuracy: 0.1656\n",
      "Epoch 24/500\n",
      "500/500 [==============================] - 2s 4ms/step - loss: 3.4924 - accuracy: 0.1545 - val_loss: 3.4997 - val_accuracy: 0.1659\n",
      "Epoch 25/500\n",
      "500/500 [==============================] - 2s 4ms/step - loss: 3.4932 - accuracy: 0.1539 - val_loss: 3.5309 - val_accuracy: 0.1623\n",
      "Epoch 26/500\n",
      "500/500 [==============================] - 2s 5ms/step - loss: 3.4848 - accuracy: 0.1532 - val_loss: 3.5277 - val_accuracy: 0.1590\n",
      "Epoch 27/500\n",
      "500/500 [==============================] - 2s 5ms/step - loss: 3.4755 - accuracy: 0.1572 - val_loss: 3.4994 - val_accuracy: 0.1689\n",
      "Epoch 28/500\n",
      "500/500 [==============================] - 2s 5ms/step - loss: 3.4748 - accuracy: 0.1585 - val_loss: 3.5022 - val_accuracy: 0.1664\n",
      "Epoch 29/500\n",
      "500/500 [==============================] - 2s 5ms/step - loss: 3.4611 - accuracy: 0.1606 - val_loss: 3.5236 - val_accuracy: 0.1625\n",
      "Epoch 30/500\n",
      "500/500 [==============================] - 2s 4ms/step - loss: 3.4524 - accuracy: 0.1591 - val_loss: 3.5332 - val_accuracy: 0.1582\n",
      "Epoch 31/500\n",
      "500/500 [==============================] - 2s 4ms/step - loss: 3.4502 - accuracy: 0.1622 - val_loss: 3.4976 - val_accuracy: 0.1670\n",
      "Epoch 32/500\n",
      "500/500 [==============================] - 2s 5ms/step - loss: 3.4366 - accuracy: 0.1648 - val_loss: 3.5061 - val_accuracy: 0.1664\n",
      "Epoch 33/500\n",
      "500/500 [==============================] - 2s 5ms/step - loss: 3.4395 - accuracy: 0.1637 - val_loss: 3.5120 - val_accuracy: 0.1648\n",
      "Epoch 34/500\n",
      "500/500 [==============================] - 2s 5ms/step - loss: 3.4336 - accuracy: 0.1648 - val_loss: 3.5168 - val_accuracy: 0.1607\n",
      "Epoch 35/500\n",
      "500/500 [==============================] - 2s 5ms/step - loss: 3.4345 - accuracy: 0.1656 - val_loss: 3.4989 - val_accuracy: 0.1676\n",
      "Epoch 36/500\n",
      "500/500 [==============================] - 2s 5ms/step - loss: 3.4323 - accuracy: 0.1639 - val_loss: 3.5005 - val_accuracy: 0.1634\n",
      "Epoch 37/500\n",
      "500/500 [==============================] - 2s 5ms/step - loss: 3.4163 - accuracy: 0.1676 - val_loss: 3.4784 - val_accuracy: 0.1677\n",
      "Epoch 38/500\n",
      "500/500 [==============================] - 2s 5ms/step - loss: 3.4251 - accuracy: 0.1653 - val_loss: 3.5122 - val_accuracy: 0.1662\n",
      "Epoch 39/500\n",
      "500/500 [==============================] - 2s 5ms/step - loss: 3.4157 - accuracy: 0.1664 - val_loss: 3.4917 - val_accuracy: 0.1707\n",
      "Epoch 40/500\n",
      "500/500 [==============================] - 2s 5ms/step - loss: 3.4054 - accuracy: 0.1680 - val_loss: 3.5132 - val_accuracy: 0.1618\n",
      "Epoch 41/500\n",
      "500/500 [==============================] - 2s 5ms/step - loss: 3.4014 - accuracy: 0.1678 - val_loss: 3.4810 - val_accuracy: 0.1702\n",
      "Epoch 42/500\n",
      "500/500 [==============================] - 2s 5ms/step - loss: 3.4082 - accuracy: 0.1688 - val_loss: 3.5026 - val_accuracy: 0.1677\n",
      "Epoch 43/500\n",
      "500/500 [==============================] - 2s 5ms/step - loss: 3.4047 - accuracy: 0.1684 - val_loss: 3.4998 - val_accuracy: 0.1648\n",
      "Epoch 44/500\n",
      "500/500 [==============================] - 2s 5ms/step - loss: 3.3993 - accuracy: 0.1701 - val_loss: 3.5134 - val_accuracy: 0.1633\n",
      "Epoch 45/500\n",
      "500/500 [==============================] - 2s 5ms/step - loss: 3.3900 - accuracy: 0.1706 - val_loss: 3.4855 - val_accuracy: 0.1711\n",
      "Epoch 46/500\n",
      "500/500 [==============================] - 2s 5ms/step - loss: 3.3889 - accuracy: 0.1711 - val_loss: 3.5088 - val_accuracy: 0.1655\n",
      "Epoch 47/500\n",
      "500/500 [==============================] - 2s 4ms/step - loss: 3.3836 - accuracy: 0.1715 - val_loss: 3.4761 - val_accuracy: 0.1727\n",
      "Epoch 48/500\n",
      "500/500 [==============================] - 2s 5ms/step - loss: 3.3874 - accuracy: 0.1683 - val_loss: 3.5443 - val_accuracy: 0.1578\n",
      "Epoch 49/500\n",
      "500/500 [==============================] - 2s 5ms/step - loss: 3.3742 - accuracy: 0.1723 - val_loss: 3.5304 - val_accuracy: 0.1605\n",
      "Epoch 50/500\n",
      "500/500 [==============================] - 2s 5ms/step - loss: 3.3824 - accuracy: 0.1710 - val_loss: 3.5359 - val_accuracy: 0.1619\n",
      "Epoch 51/500\n",
      "500/500 [==============================] - 2s 5ms/step - loss: 3.3688 - accuracy: 0.1744 - val_loss: 3.4842 - val_accuracy: 0.1743\n",
      "Epoch 52/500\n",
      "500/500 [==============================] - 2s 5ms/step - loss: 3.3678 - accuracy: 0.1744 - val_loss: 3.5188 - val_accuracy: 0.1611\n",
      "Epoch 53/500\n",
      "500/500 [==============================] - 3s 6ms/step - loss: 3.3695 - accuracy: 0.1736 - val_loss: 3.4935 - val_accuracy: 0.1690\n",
      "Epoch 54/500\n",
      "500/500 [==============================] - 3s 5ms/step - loss: 3.3648 - accuracy: 0.1738 - val_loss: 3.5082 - val_accuracy: 0.1641\n",
      "Epoch 55/500\n",
      "500/500 [==============================] - 2s 5ms/step - loss: 3.3558 - accuracy: 0.1753 - val_loss: 3.5439 - val_accuracy: 0.1580\n",
      "Epoch 56/500\n",
      "500/500 [==============================] - 2s 5ms/step - loss: 3.3657 - accuracy: 0.1741 - val_loss: 3.5157 - val_accuracy: 0.1631\n",
      "Epoch 57/500\n",
      "500/500 [==============================] - 2s 4ms/step - loss: 3.3611 - accuracy: 0.1744 - val_loss: 3.4946 - val_accuracy: 0.1678\n",
      "Epoch 58/500\n",
      "500/500 [==============================] - 2s 4ms/step - loss: 3.3483 - accuracy: 0.1776 - val_loss: 3.4713 - val_accuracy: 0.1721\n",
      "Epoch 59/500\n",
      "500/500 [==============================] - 2s 5ms/step - loss: 3.3519 - accuracy: 0.1760 - val_loss: 3.4978 - val_accuracy: 0.1702\n",
      "Epoch 60/500\n",
      "500/500 [==============================] - 2s 5ms/step - loss: 3.3432 - accuracy: 0.1796 - val_loss: 3.4861 - val_accuracy: 0.1711\n",
      "Epoch 61/500\n",
      "500/500 [==============================] - 2s 4ms/step - loss: 3.3482 - accuracy: 0.1758 - val_loss: 3.5491 - val_accuracy: 0.1652\n",
      "Epoch 62/500\n",
      "500/500 [==============================] - 2s 5ms/step - loss: 3.3420 - accuracy: 0.1784 - val_loss: 3.4644 - val_accuracy: 0.1761\n",
      "Epoch 63/500\n",
      "500/500 [==============================] - 2s 5ms/step - loss: 3.3446 - accuracy: 0.1769 - val_loss: 3.4898 - val_accuracy: 0.1668\n",
      "Epoch 64/500\n",
      "500/500 [==============================] - 2s 5ms/step - loss: 3.3410 - accuracy: 0.1782 - val_loss: 3.5598 - val_accuracy: 0.1585\n",
      "Epoch 65/500\n",
      "500/500 [==============================] - 2s 5ms/step - loss: 3.3395 - accuracy: 0.1791 - val_loss: 3.4689 - val_accuracy: 0.1752\n",
      "Epoch 66/500\n",
      "500/500 [==============================] - 2s 5ms/step - loss: 3.3363 - accuracy: 0.1778 - val_loss: 3.5166 - val_accuracy: 0.1617\n",
      "Epoch 67/500\n",
      "500/500 [==============================] - 2s 4ms/step - loss: 3.3365 - accuracy: 0.1798 - val_loss: 3.5004 - val_accuracy: 0.1701\n",
      "Epoch 68/500\n",
      "500/500 [==============================] - 2s 5ms/step - loss: 3.3291 - accuracy: 0.1798 - val_loss: 3.4952 - val_accuracy: 0.1686\n",
      "Epoch 69/500\n",
      "500/500 [==============================] - 2s 4ms/step - loss: 3.3258 - accuracy: 0.1781 - val_loss: 3.4876 - val_accuracy: 0.1691\n",
      "Epoch 70/500\n",
      "500/500 [==============================] - 2s 5ms/step - loss: 3.3238 - accuracy: 0.1815 - val_loss: 3.4964 - val_accuracy: 0.1713\n",
      "Epoch 71/500\n",
      "500/500 [==============================] - 2s 5ms/step - loss: 3.3267 - accuracy: 0.1808 - val_loss: 3.5402 - val_accuracy: 0.1607\n",
      "Epoch 72/500\n",
      "500/500 [==============================] - 2s 5ms/step - loss: 3.3256 - accuracy: 0.1822 - val_loss: 3.5123 - val_accuracy: 0.1660\n",
      "Epoch 73/500\n",
      "500/500 [==============================] - 2s 5ms/step - loss: 3.3150 - accuracy: 0.1823 - val_loss: 3.4909 - val_accuracy: 0.1752\n",
      "Epoch 74/500\n",
      "500/500 [==============================] - 2s 5ms/step - loss: 3.3119 - accuracy: 0.1811 - val_loss: 3.5000 - val_accuracy: 0.1736\n",
      "Epoch 75/500\n",
      "500/500 [==============================] - 2s 5ms/step - loss: 3.3137 - accuracy: 0.1812 - val_loss: 3.5228 - val_accuracy: 0.1648\n",
      "Epoch 76/500\n",
      "500/500 [==============================] - 2s 5ms/step - loss: 3.3152 - accuracy: 0.1818 - val_loss: 3.4997 - val_accuracy: 0.1711\n",
      "Epoch 77/500\n",
      "500/500 [==============================] - 2s 5ms/step - loss: 3.3117 - accuracy: 0.1798 - val_loss: 3.4887 - val_accuracy: 0.1722\n",
      "Epoch 78/500\n",
      "500/500 [==============================] - 2s 5ms/step - loss: 3.3150 - accuracy: 0.1828 - val_loss: 3.5280 - val_accuracy: 0.1665\n",
      "Epoch 79/500\n",
      "500/500 [==============================] - 2s 5ms/step - loss: 3.3064 - accuracy: 0.1836 - val_loss: 3.5196 - val_accuracy: 0.1679\n",
      "Epoch 80/500\n",
      "500/500 [==============================] - 2s 5ms/step - loss: 3.3107 - accuracy: 0.1823 - val_loss: 3.5197 - val_accuracy: 0.1660\n",
      "Epoch 81/500\n",
      "500/500 [==============================] - 2s 5ms/step - loss: 3.3016 - accuracy: 0.1840 - val_loss: 3.4952 - val_accuracy: 0.1725\n",
      "Epoch 82/500\n",
      "500/500 [==============================] - 2s 5ms/step - loss: 3.3176 - accuracy: 0.1818 - val_loss: 3.4948 - val_accuracy: 0.1706\n",
      "Epoch 83/500\n",
      "500/500 [==============================] - 2s 5ms/step - loss: 3.2975 - accuracy: 0.1824 - val_loss: 3.5356 - val_accuracy: 0.1670\n",
      "Epoch 84/500\n",
      "500/500 [==============================] - 2s 5ms/step - loss: 3.3026 - accuracy: 0.1831 - val_loss: 3.5186 - val_accuracy: 0.1724\n",
      "Epoch 85/500\n",
      "500/500 [==============================] - 2s 5ms/step - loss: 3.3098 - accuracy: 0.1841 - val_loss: 3.5351 - val_accuracy: 0.1629\n",
      "Epoch 86/500\n",
      "500/500 [==============================] - 2s 5ms/step - loss: 3.3029 - accuracy: 0.1834 - val_loss: 3.5341 - val_accuracy: 0.1652\n",
      "Epoch 87/500\n",
      "500/500 [==============================] - 2s 5ms/step - loss: 3.3002 - accuracy: 0.1844 - val_loss: 3.5037 - val_accuracy: 0.1711\n",
      "Epoch 88/500\n",
      "500/500 [==============================] - 2s 5ms/step - loss: 3.2983 - accuracy: 0.1873 - val_loss: 3.5141 - val_accuracy: 0.1731\n",
      "Epoch 89/500\n",
      "500/500 [==============================] - 2s 5ms/step - loss: 3.2927 - accuracy: 0.1869 - val_loss: 3.5253 - val_accuracy: 0.1698\n",
      "Epoch 90/500\n",
      "500/500 [==============================] - 2s 5ms/step - loss: 3.2934 - accuracy: 0.1857 - val_loss: 3.4988 - val_accuracy: 0.1714\n",
      "Epoch 91/500\n",
      "500/500 [==============================] - 2s 5ms/step - loss: 3.2886 - accuracy: 0.1865 - val_loss: 3.5258 - val_accuracy: 0.1681\n",
      "Epoch 92/500\n",
      "500/500 [==============================] - 2s 5ms/step - loss: 3.2925 - accuracy: 0.1860 - val_loss: 3.5103 - val_accuracy: 0.1725\n",
      "Epoch 93/500\n",
      "500/500 [==============================] - 2s 5ms/step - loss: 3.2972 - accuracy: 0.1837 - val_loss: 3.5092 - val_accuracy: 0.1747\n",
      "Epoch 94/500\n",
      "500/500 [==============================] - 2s 5ms/step - loss: 3.2888 - accuracy: 0.1837 - val_loss: 3.5591 - val_accuracy: 0.1604\n",
      "Epoch 95/500\n",
      "500/500 [==============================] - 2s 5ms/step - loss: 3.2847 - accuracy: 0.1872 - val_loss: 3.5141 - val_accuracy: 0.1699\n",
      "Epoch 96/500\n",
      "500/500 [==============================] - 2s 5ms/step - loss: 3.2846 - accuracy: 0.1862 - val_loss: 3.5256 - val_accuracy: 0.1698\n",
      "Epoch 97/500\n",
      "500/500 [==============================] - 2s 5ms/step - loss: 3.2906 - accuracy: 0.1882 - val_loss: 3.5320 - val_accuracy: 0.1690\n",
      "Epoch 98/500\n",
      "500/500 [==============================] - 2s 5ms/step - loss: 3.2817 - accuracy: 0.1863 - val_loss: 3.5174 - val_accuracy: 0.1738\n",
      "Epoch 99/500\n",
      "500/500 [==============================] - 2s 5ms/step - loss: 3.2799 - accuracy: 0.1880 - val_loss: 3.5406 - val_accuracy: 0.1721\n",
      "Epoch 100/500\n",
      "500/500 [==============================] - 2s 5ms/step - loss: 3.2740 - accuracy: 0.1884 - val_loss: 3.5203 - val_accuracy: 0.1690\n",
      "Epoch 101/500\n",
      "500/500 [==============================] - 2s 5ms/step - loss: 3.2782 - accuracy: 0.1899 - val_loss: 3.5240 - val_accuracy: 0.1663\n",
      "Epoch 102/500\n",
      "500/500 [==============================] - 2s 5ms/step - loss: 3.2680 - accuracy: 0.1889 - val_loss: 3.5330 - val_accuracy: 0.1678\n",
      "Epoch 103/500\n",
      "500/500 [==============================] - 2s 5ms/step - loss: 3.2734 - accuracy: 0.1877 - val_loss: 3.5263 - val_accuracy: 0.1735\n",
      "Epoch 104/500\n",
      "500/500 [==============================] - 2s 5ms/step - loss: 3.2604 - accuracy: 0.1891 - val_loss: 3.5214 - val_accuracy: 0.1700\n",
      "Epoch 105/500\n",
      "500/500 [==============================] - 2s 5ms/step - loss: 3.2751 - accuracy: 0.1882 - val_loss: 3.5173 - val_accuracy: 0.1715\n",
      "Epoch 106/500\n",
      "500/500 [==============================] - 2s 4ms/step - loss: 3.2860 - accuracy: 0.1881 - val_loss: 3.5058 - val_accuracy: 0.1766\n",
      "Epoch 107/500\n",
      "500/500 [==============================] - 2s 5ms/step - loss: 3.2649 - accuracy: 0.1896 - val_loss: 3.5383 - val_accuracy: 0.1697\n",
      "Epoch 108/500\n",
      "500/500 [==============================] - 2s 5ms/step - loss: 3.2737 - accuracy: 0.1876 - val_loss: 3.5128 - val_accuracy: 0.1743\n",
      "Epoch 109/500\n",
      "500/500 [==============================] - 2s 5ms/step - loss: 3.2744 - accuracy: 0.1888 - val_loss: 3.5356 - val_accuracy: 0.1694\n",
      "Epoch 110/500\n",
      "500/500 [==============================] - 2s 5ms/step - loss: 3.2721 - accuracy: 0.1882 - val_loss: 3.5177 - val_accuracy: 0.1705\n",
      "Epoch 111/500\n",
      "500/500 [==============================] - 2s 5ms/step - loss: 3.2528 - accuracy: 0.1920 - val_loss: 3.5214 - val_accuracy: 0.1705\n",
      "Epoch 112/500\n",
      "500/500 [==============================] - 2s 5ms/step - loss: 3.2622 - accuracy: 0.1889 - val_loss: 3.5406 - val_accuracy: 0.1677\n",
      "Epoch 113/500\n",
      "500/500 [==============================] - 2s 5ms/step - loss: 3.2450 - accuracy: 0.1937 - val_loss: 3.5310 - val_accuracy: 0.1705\n",
      "Epoch 114/500\n",
      "500/500 [==============================] - 2s 5ms/step - loss: 3.2646 - accuracy: 0.1878 - val_loss: 3.5224 - val_accuracy: 0.1709\n",
      "Epoch 115/500\n",
      "500/500 [==============================] - 2s 4ms/step - loss: 3.2676 - accuracy: 0.1941 - val_loss: 3.5337 - val_accuracy: 0.1681\n",
      "Epoch 116/500\n",
      "500/500 [==============================] - 2s 5ms/step - loss: 3.2567 - accuracy: 0.1906 - val_loss: 3.5101 - val_accuracy: 0.1746\n",
      "Epoch 117/500\n",
      "500/500 [==============================] - 2s 5ms/step - loss: 3.2672 - accuracy: 0.1912 - val_loss: 3.5336 - val_accuracy: 0.1726\n",
      "Epoch 118/500\n",
      "500/500 [==============================] - 2s 5ms/step - loss: 3.2659 - accuracy: 0.1891 - val_loss: 3.5315 - val_accuracy: 0.1742\n",
      "Epoch 119/500\n",
      "500/500 [==============================] - 2s 5ms/step - loss: 3.2500 - accuracy: 0.1929 - val_loss: 3.5231 - val_accuracy: 0.1716\n",
      "Epoch 120/500\n",
      "500/500 [==============================] - 2s 5ms/step - loss: 3.2537 - accuracy: 0.1931 - val_loss: 3.5468 - val_accuracy: 0.1713\n",
      "Epoch 121/500\n",
      "500/500 [==============================] - 2s 5ms/step - loss: 3.2665 - accuracy: 0.1895 - val_loss: 3.5220 - val_accuracy: 0.1724\n",
      "Epoch 122/500\n",
      "500/500 [==============================] - 2s 5ms/step - loss: 3.2445 - accuracy: 0.1918 - val_loss: 3.5267 - val_accuracy: 0.1752\n",
      "Epoch 123/500\n",
      "500/500 [==============================] - 2s 5ms/step - loss: 3.2520 - accuracy: 0.1924 - val_loss: 3.5380 - val_accuracy: 0.1725\n",
      "Epoch 124/500\n",
      "500/500 [==============================] - 2s 5ms/step - loss: 3.2461 - accuracy: 0.1932 - val_loss: 3.5277 - val_accuracy: 0.1713\n",
      "Epoch 125/500\n",
      "500/500 [==============================] - 2s 5ms/step - loss: 3.2499 - accuracy: 0.1938 - val_loss: 3.5445 - val_accuracy: 0.1733\n",
      "Epoch 126/500\n",
      "500/500 [==============================] - 2s 5ms/step - loss: 3.2353 - accuracy: 0.1952 - val_loss: 3.5662 - val_accuracy: 0.1679\n",
      "Epoch 127/500\n",
      "500/500 [==============================] - 2s 5ms/step - loss: 3.2403 - accuracy: 0.1934 - val_loss: 3.5336 - val_accuracy: 0.1706\n",
      "Epoch 128/500\n",
      "500/500 [==============================] - 2s 5ms/step - loss: 3.2485 - accuracy: 0.1950 - val_loss: 3.5358 - val_accuracy: 0.1725\n",
      "Epoch 129/500\n",
      "500/500 [==============================] - 2s 5ms/step - loss: 3.2534 - accuracy: 0.1909 - val_loss: 3.5720 - val_accuracy: 0.1688\n",
      "Epoch 130/500\n",
      "500/500 [==============================] - 2s 5ms/step - loss: 3.2492 - accuracy: 0.1916 - val_loss: 3.5391 - val_accuracy: 0.1719\n",
      "Epoch 131/500\n",
      "500/500 [==============================] - 2s 5ms/step - loss: 3.2439 - accuracy: 0.1927 - val_loss: 3.5615 - val_accuracy: 0.1678\n",
      "Epoch 132/500\n",
      "500/500 [==============================] - 2s 5ms/step - loss: 3.2400 - accuracy: 0.1934 - val_loss: 3.5251 - val_accuracy: 0.1734\n",
      "Epoch 133/500\n",
      "500/500 [==============================] - 2s 5ms/step - loss: 3.2288 - accuracy: 0.1926 - val_loss: 3.5344 - val_accuracy: 0.1721\n",
      "Epoch 134/500\n",
      "500/500 [==============================] - 2s 5ms/step - loss: 3.2502 - accuracy: 0.1908 - val_loss: 3.5440 - val_accuracy: 0.1759\n",
      "Epoch 135/500\n",
      "500/500 [==============================] - 2s 5ms/step - loss: 3.2490 - accuracy: 0.1928 - val_loss: 3.5592 - val_accuracy: 0.1704\n",
      "Epoch 136/500\n",
      "500/500 [==============================] - 2s 5ms/step - loss: 3.2478 - accuracy: 0.1960 - val_loss: 3.5780 - val_accuracy: 0.1609\n",
      "Epoch 137/500\n",
      "500/500 [==============================] - 2s 5ms/step - loss: 3.2417 - accuracy: 0.1913 - val_loss: 3.5660 - val_accuracy: 0.1672\n",
      "Epoch 138/500\n",
      "500/500 [==============================] - 2s 5ms/step - loss: 3.2404 - accuracy: 0.1939 - val_loss: 3.5643 - val_accuracy: 0.1691\n",
      "Epoch 139/500\n",
      "500/500 [==============================] - 2s 5ms/step - loss: 3.2363 - accuracy: 0.1953 - val_loss: 3.5429 - val_accuracy: 0.1705\n",
      "Epoch 140/500\n",
      "500/500 [==============================] - 2s 5ms/step - loss: 3.2473 - accuracy: 0.1925 - val_loss: 3.5560 - val_accuracy: 0.1689\n",
      "Epoch 141/500\n",
      "500/500 [==============================] - 2s 5ms/step - loss: 3.2333 - accuracy: 0.1985 - val_loss: 3.5487 - val_accuracy: 0.1684\n",
      "Epoch 142/500\n",
      "500/500 [==============================] - 2s 5ms/step - loss: 3.2371 - accuracy: 0.1953 - val_loss: 3.5272 - val_accuracy: 0.1721\n",
      "Epoch 143/500\n",
      "500/500 [==============================] - 2s 5ms/step - loss: 3.2469 - accuracy: 0.1922 - val_loss: 3.5397 - val_accuracy: 0.1727\n",
      "Epoch 144/500\n",
      "500/500 [==============================] - 2s 4ms/step - loss: 3.2319 - accuracy: 0.1950 - val_loss: 3.5632 - val_accuracy: 0.1694\n",
      "Epoch 145/500\n",
      "500/500 [==============================] - 2s 4ms/step - loss: 3.2290 - accuracy: 0.1952 - val_loss: 3.5607 - val_accuracy: 0.1734\n",
      "Epoch 146/500\n",
      "500/500 [==============================] - 2s 5ms/step - loss: 3.2217 - accuracy: 0.1985 - val_loss: 3.5361 - val_accuracy: 0.1793\n",
      "Epoch 147/500\n",
      "500/500 [==============================] - 2s 5ms/step - loss: 3.2172 - accuracy: 0.1981 - val_loss: 3.5611 - val_accuracy: 0.1732\n",
      "Epoch 148/500\n",
      "500/500 [==============================] - 2s 5ms/step - loss: 3.2296 - accuracy: 0.1984 - val_loss: 3.5482 - val_accuracy: 0.1756\n",
      "Epoch 149/500\n",
      "500/500 [==============================] - 2s 4ms/step - loss: 3.2233 - accuracy: 0.1958 - val_loss: 3.5874 - val_accuracy: 0.1687\n",
      "Epoch 150/500\n",
      "500/500 [==============================] - 2s 4ms/step - loss: 3.2286 - accuracy: 0.1941 - val_loss: 3.5238 - val_accuracy: 0.1750\n",
      "Epoch 151/500\n",
      "500/500 [==============================] - 2s 5ms/step - loss: 3.2200 - accuracy: 0.1964 - val_loss: 3.5763 - val_accuracy: 0.1733\n",
      "Epoch 152/500\n",
      "500/500 [==============================] - 2s 5ms/step - loss: 3.2178 - accuracy: 0.1964 - val_loss: 3.5506 - val_accuracy: 0.1775\n",
      "Epoch 153/500\n",
      "500/500 [==============================] - 2s 5ms/step - loss: 3.2151 - accuracy: 0.1976 - val_loss: 3.5339 - val_accuracy: 0.1720\n",
      "Epoch 154/500\n",
      "500/500 [==============================] - 2s 5ms/step - loss: 3.2317 - accuracy: 0.1945 - val_loss: 3.5966 - val_accuracy: 0.1645\n",
      "Epoch 155/500\n",
      "500/500 [==============================] - 3s 6ms/step - loss: 3.2229 - accuracy: 0.1968 - val_loss: 3.5560 - val_accuracy: 0.1713\n",
      "Epoch 156/500\n",
      "500/500 [==============================] - 2s 5ms/step - loss: 3.2244 - accuracy: 0.1974 - val_loss: 3.5539 - val_accuracy: 0.1777\n",
      "Epoch 157/500\n",
      "500/500 [==============================] - 5s 9ms/step - loss: 3.2199 - accuracy: 0.1970 - val_loss: 3.5487 - val_accuracy: 0.1763\n",
      "Epoch 158/500\n",
      "500/500 [==============================] - 4s 9ms/step - loss: 3.2248 - accuracy: 0.1974 - val_loss: 3.5966 - val_accuracy: 0.1691\n",
      "Epoch 159/500\n",
      "500/500 [==============================] - 3s 7ms/step - loss: 3.2198 - accuracy: 0.1964 - val_loss: 3.5440 - val_accuracy: 0.1750\n",
      "Epoch 160/500\n",
      "500/500 [==============================] - 2s 5ms/step - loss: 3.2194 - accuracy: 0.1977 - val_loss: 3.6147 - val_accuracy: 0.1688\n",
      "Epoch 161/500\n",
      "500/500 [==============================] - 3s 5ms/step - loss: 3.2246 - accuracy: 0.1978 - val_loss: 3.5407 - val_accuracy: 0.1768\n",
      "Epoch 162/500\n",
      "500/500 [==============================] - 3s 6ms/step - loss: 3.2309 - accuracy: 0.1966 - val_loss: 3.5373 - val_accuracy: 0.1766\n",
      "Epoch 163/500\n",
      "500/500 [==============================] - 2s 5ms/step - loss: 3.2245 - accuracy: 0.1957 - val_loss: 3.5502 - val_accuracy: 0.1751\n",
      "Epoch 164/500\n",
      "500/500 [==============================] - 2s 5ms/step - loss: 3.2060 - accuracy: 0.1994 - val_loss: 3.5634 - val_accuracy: 0.1759\n",
      "Epoch 165/500\n",
      "500/500 [==============================] - 2s 5ms/step - loss: 3.2120 - accuracy: 0.1984 - val_loss: 3.5490 - val_accuracy: 0.1762\n",
      "Epoch 166/500\n",
      "500/500 [==============================] - 2s 5ms/step - loss: 3.2143 - accuracy: 0.1981 - val_loss: 3.5407 - val_accuracy: 0.1717\n",
      "Epoch 167/500\n",
      "500/500 [==============================] - 2s 5ms/step - loss: 3.2171 - accuracy: 0.1974 - val_loss: 3.5677 - val_accuracy: 0.1690\n",
      "Epoch 168/500\n",
      "500/500 [==============================] - 2s 5ms/step - loss: 3.2178 - accuracy: 0.1959 - val_loss: 3.5458 - val_accuracy: 0.1702\n",
      "Epoch 169/500\n",
      "500/500 [==============================] - 2s 5ms/step - loss: 3.2130 - accuracy: 0.2002 - val_loss: 3.5513 - val_accuracy: 0.1759\n",
      "Epoch 170/500\n",
      "500/500 [==============================] - 2s 5ms/step - loss: 3.2223 - accuracy: 0.1980 - val_loss: 3.5367 - val_accuracy: 0.1734\n",
      "Epoch 171/500\n",
      "500/500 [==============================] - 2s 5ms/step - loss: 3.2216 - accuracy: 0.1945 - val_loss: 3.5522 - val_accuracy: 0.1704\n",
      "Epoch 172/500\n",
      "500/500 [==============================] - 2s 5ms/step - loss: 3.2208 - accuracy: 0.1984 - val_loss: 3.5751 - val_accuracy: 0.1732\n",
      "Epoch 173/500\n",
      "500/500 [==============================] - 2s 5ms/step - loss: 3.2093 - accuracy: 0.1999 - val_loss: 3.5762 - val_accuracy: 0.1741\n",
      "Epoch 174/500\n",
      "500/500 [==============================] - 2s 5ms/step - loss: 3.2236 - accuracy: 0.1967 - val_loss: 3.5485 - val_accuracy: 0.1757\n",
      "Epoch 175/500\n",
      "500/500 [==============================] - 2s 5ms/step - loss: 3.2094 - accuracy: 0.2001 - val_loss: 3.5554 - val_accuracy: 0.1739\n",
      "Epoch 176/500\n",
      "500/500 [==============================] - 2s 5ms/step - loss: 3.2060 - accuracy: 0.1989 - val_loss: 3.5445 - val_accuracy: 0.1795\n",
      "Epoch 177/500\n",
      "500/500 [==============================] - 3s 6ms/step - loss: 3.2117 - accuracy: 0.1980 - val_loss: 3.5644 - val_accuracy: 0.1693\n",
      "Epoch 178/500\n",
      "500/500 [==============================] - 3s 6ms/step - loss: 3.2081 - accuracy: 0.2001 - val_loss: 3.6053 - val_accuracy: 0.1679\n",
      "Epoch 179/500\n",
      "500/500 [==============================] - 2s 5ms/step - loss: 3.2062 - accuracy: 0.1994 - val_loss: 3.5692 - val_accuracy: 0.1748\n",
      "Epoch 180/500\n",
      "500/500 [==============================] - 2s 5ms/step - loss: 3.2058 - accuracy: 0.2018 - val_loss: 3.5722 - val_accuracy: 0.1689\n",
      "Epoch 181/500\n",
      "500/500 [==============================] - 2s 5ms/step - loss: 3.2105 - accuracy: 0.2003 - val_loss: 3.5743 - val_accuracy: 0.1690\n",
      "Epoch 182/500\n",
      "500/500 [==============================] - 2s 5ms/step - loss: 3.2085 - accuracy: 0.1987 - val_loss: 3.5464 - val_accuracy: 0.1757\n",
      "Epoch 183/500\n",
      "500/500 [==============================] - 2s 5ms/step - loss: 3.2077 - accuracy: 0.1998 - val_loss: 3.5441 - val_accuracy: 0.1747\n",
      "Epoch 184/500\n",
      "500/500 [==============================] - 2s 5ms/step - loss: 3.2063 - accuracy: 0.1995 - val_loss: 3.5658 - val_accuracy: 0.1746\n",
      "Epoch 185/500\n",
      "500/500 [==============================] - 2s 5ms/step - loss: 3.2064 - accuracy: 0.2008 - val_loss: 3.5671 - val_accuracy: 0.1689\n",
      "Epoch 186/500\n",
      "500/500 [==============================] - 2s 5ms/step - loss: 3.2160 - accuracy: 0.1973 - val_loss: 3.5706 - val_accuracy: 0.1738\n",
      "Epoch 187/500\n",
      "500/500 [==============================] - 2s 5ms/step - loss: 3.2006 - accuracy: 0.2021 - val_loss: 3.5573 - val_accuracy: 0.1731\n",
      "Epoch 188/500\n",
      "500/500 [==============================] - 2s 5ms/step - loss: 3.2082 - accuracy: 0.1989 - val_loss: 3.5649 - val_accuracy: 0.1728\n",
      "Epoch 189/500\n",
      "500/500 [==============================] - 2s 5ms/step - loss: 3.2181 - accuracy: 0.1987 - val_loss: 3.6086 - val_accuracy: 0.1594\n",
      "Epoch 190/500\n",
      "500/500 [==============================] - 2s 5ms/step - loss: 3.2130 - accuracy: 0.1978 - val_loss: 3.5482 - val_accuracy: 0.1709\n",
      "Epoch 191/500\n",
      "500/500 [==============================] - 2s 5ms/step - loss: 3.2014 - accuracy: 0.2014 - val_loss: 3.5705 - val_accuracy: 0.1748\n",
      "Epoch 192/500\n",
      "500/500 [==============================] - 2s 5ms/step - loss: 3.2004 - accuracy: 0.2011 - val_loss: 3.5929 - val_accuracy: 0.1650\n",
      "Epoch 193/500\n",
      "500/500 [==============================] - 2s 5ms/step - loss: 3.2058 - accuracy: 0.1995 - val_loss: 3.5703 - val_accuracy: 0.1737\n",
      "Epoch 194/500\n",
      "500/500 [==============================] - 2s 5ms/step - loss: 3.2091 - accuracy: 0.1991 - val_loss: 3.5670 - val_accuracy: 0.1721\n",
      "Epoch 195/500\n",
      "500/500 [==============================] - 2s 5ms/step - loss: 3.2096 - accuracy: 0.1989 - val_loss: 3.5871 - val_accuracy: 0.1681\n",
      "Epoch 196/500\n",
      "500/500 [==============================] - 2s 5ms/step - loss: 3.1970 - accuracy: 0.2025 - val_loss: 3.5630 - val_accuracy: 0.1735\n",
      "Epoch 197/500\n",
      "500/500 [==============================] - 2s 5ms/step - loss: 3.2092 - accuracy: 0.2002 - val_loss: 3.5814 - val_accuracy: 0.1698\n",
      "Epoch 198/500\n",
      "500/500 [==============================] - 2s 5ms/step - loss: 3.2062 - accuracy: 0.1998 - val_loss: 3.5999 - val_accuracy: 0.1677\n",
      "Epoch 199/500\n",
      "500/500 [==============================] - 3s 6ms/step - loss: 3.2111 - accuracy: 0.1988 - val_loss: 3.5675 - val_accuracy: 0.1683\n",
      "Epoch 200/500\n",
      "500/500 [==============================] - 3s 6ms/step - loss: 3.2087 - accuracy: 0.1997 - val_loss: 3.6114 - val_accuracy: 0.1642\n",
      "Epoch 201/500\n",
      "500/500 [==============================] - 3s 5ms/step - loss: 3.2044 - accuracy: 0.2031 - val_loss: 3.6018 - val_accuracy: 0.1709\n",
      "Epoch 202/500\n",
      "500/500 [==============================] - 3s 6ms/step - loss: 3.1988 - accuracy: 0.2027 - val_loss: 3.5595 - val_accuracy: 0.1737\n",
      "Epoch 203/500\n",
      "500/500 [==============================] - 2s 5ms/step - loss: 3.1914 - accuracy: 0.2005 - val_loss: 3.5516 - val_accuracy: 0.1751\n",
      "Epoch 204/500\n",
      "500/500 [==============================] - 2s 5ms/step - loss: 3.1990 - accuracy: 0.2032 - val_loss: 3.5856 - val_accuracy: 0.1703\n",
      "Epoch 205/500\n",
      "500/500 [==============================] - 2s 5ms/step - loss: 3.2096 - accuracy: 0.1994 - val_loss: 3.5755 - val_accuracy: 0.1723\n",
      "Epoch 206/500\n",
      "500/500 [==============================] - 2s 5ms/step - loss: 3.1995 - accuracy: 0.2014 - val_loss: 3.5666 - val_accuracy: 0.1726\n",
      "Epoch 207/500\n",
      "500/500 [==============================] - 2s 5ms/step - loss: 3.2049 - accuracy: 0.1991 - val_loss: 3.6151 - val_accuracy: 0.1609\n",
      "Epoch 208/500\n",
      "500/500 [==============================] - 2s 5ms/step - loss: 3.1924 - accuracy: 0.2020 - val_loss: 3.5889 - val_accuracy: 0.1728\n",
      "Epoch 209/500\n",
      "500/500 [==============================] - 2s 5ms/step - loss: 3.1942 - accuracy: 0.2013 - val_loss: 3.5866 - val_accuracy: 0.1661\n",
      "Epoch 210/500\n",
      "500/500 [==============================] - 2s 5ms/step - loss: 3.2001 - accuracy: 0.2007 - val_loss: 3.5907 - val_accuracy: 0.1660\n",
      "Epoch 211/500\n",
      "500/500 [==============================] - 2s 5ms/step - loss: 3.1992 - accuracy: 0.2023 - val_loss: 3.6277 - val_accuracy: 0.1642\n",
      "Epoch 212/500\n",
      "500/500 [==============================] - 2s 5ms/step - loss: 3.1897 - accuracy: 0.2032 - val_loss: 3.5918 - val_accuracy: 0.1744\n",
      "Epoch 213/500\n",
      "500/500 [==============================] - 2s 5ms/step - loss: 3.2091 - accuracy: 0.2004 - val_loss: 3.6212 - val_accuracy: 0.1686\n",
      "Epoch 214/500\n",
      "500/500 [==============================] - 2s 5ms/step - loss: 3.1930 - accuracy: 0.2005 - val_loss: 3.5755 - val_accuracy: 0.1726\n",
      "Epoch 215/500\n",
      "500/500 [==============================] - 2s 5ms/step - loss: 3.1927 - accuracy: 0.2037 - val_loss: 3.5953 - val_accuracy: 0.1692\n",
      "Epoch 216/500\n",
      "500/500 [==============================] - 2s 5ms/step - loss: 3.1893 - accuracy: 0.2030 - val_loss: 3.6211 - val_accuracy: 0.1710\n",
      "Epoch 217/500\n",
      "500/500 [==============================] - 2s 5ms/step - loss: 3.1940 - accuracy: 0.2025 - val_loss: 3.6249 - val_accuracy: 0.1649\n",
      "Epoch 218/500\n",
      "500/500 [==============================] - 2s 5ms/step - loss: 3.1935 - accuracy: 0.2040 - val_loss: 3.5661 - val_accuracy: 0.1735\n",
      "Epoch 219/500\n",
      "500/500 [==============================] - 2s 5ms/step - loss: 3.2024 - accuracy: 0.2010 - val_loss: 3.5994 - val_accuracy: 0.1749\n",
      "Epoch 220/500\n",
      "500/500 [==============================] - 2s 5ms/step - loss: 3.1952 - accuracy: 0.2037 - val_loss: 3.5537 - val_accuracy: 0.1745\n",
      "Epoch 221/500\n",
      "500/500 [==============================] - 2s 5ms/step - loss: 3.1831 - accuracy: 0.2042 - val_loss: 3.5778 - val_accuracy: 0.1751\n",
      "Epoch 222/500\n",
      "500/500 [==============================] - 2s 5ms/step - loss: 3.2043 - accuracy: 0.2003 - val_loss: 3.5838 - val_accuracy: 0.1697\n",
      "Epoch 223/500\n",
      "500/500 [==============================] - 2s 5ms/step - loss: 3.1912 - accuracy: 0.2029 - val_loss: 3.6092 - val_accuracy: 0.1617\n",
      "Epoch 224/500\n",
      "500/500 [==============================] - 2s 5ms/step - loss: 3.1936 - accuracy: 0.2032 - val_loss: 3.6078 - val_accuracy: 0.1722\n",
      "Epoch 225/500\n",
      "500/500 [==============================] - 2s 5ms/step - loss: 3.1952 - accuracy: 0.2022 - val_loss: 3.5842 - val_accuracy: 0.1708\n",
      "Epoch 226/500\n",
      "500/500 [==============================] - 2s 5ms/step - loss: 3.1958 - accuracy: 0.2026 - val_loss: 3.5726 - val_accuracy: 0.1715\n",
      "Epoch 227/500\n",
      "500/500 [==============================] - 2s 5ms/step - loss: 3.2035 - accuracy: 0.2006 - val_loss: 3.6128 - val_accuracy: 0.1687\n",
      "Epoch 228/500\n",
      "500/500 [==============================] - 2s 5ms/step - loss: 3.1951 - accuracy: 0.2010 - val_loss: 3.5940 - val_accuracy: 0.1651\n",
      "Epoch 229/500\n",
      "500/500 [==============================] - 2s 5ms/step - loss: 3.1970 - accuracy: 0.2033 - val_loss: 3.5828 - val_accuracy: 0.1682\n",
      "Epoch 230/500\n",
      "500/500 [==============================] - 2s 5ms/step - loss: 3.1967 - accuracy: 0.2027 - val_loss: 3.5846 - val_accuracy: 0.1683\n",
      "Epoch 231/500\n",
      "500/500 [==============================] - 2s 5ms/step - loss: 3.1969 - accuracy: 0.2015 - val_loss: 3.6002 - val_accuracy: 0.1714\n",
      "Epoch 232/500\n",
      "500/500 [==============================] - 2s 5ms/step - loss: 3.1896 - accuracy: 0.2032 - val_loss: 3.5726 - val_accuracy: 0.1756\n",
      "Epoch 233/500\n",
      "500/500 [==============================] - 2s 5ms/step - loss: 3.1856 - accuracy: 0.2038 - val_loss: 3.5777 - val_accuracy: 0.1704\n",
      "Epoch 234/500\n",
      "500/500 [==============================] - 2s 5ms/step - loss: 3.1986 - accuracy: 0.2002 - val_loss: 3.5983 - val_accuracy: 0.1667\n",
      "Epoch 235/500\n",
      "500/500 [==============================] - 2s 5ms/step - loss: 3.2145 - accuracy: 0.2018 - val_loss: 3.5964 - val_accuracy: 0.1689\n",
      "Epoch 236/500\n",
      "500/500 [==============================] - 2s 5ms/step - loss: 3.1986 - accuracy: 0.2018 - val_loss: 3.6028 - val_accuracy: 0.1677\n",
      "Epoch 237/500\n",
      "500/500 [==============================] - 2s 5ms/step - loss: 3.1896 - accuracy: 0.2018 - val_loss: 3.5833 - val_accuracy: 0.1726\n",
      "Epoch 238/500\n",
      "500/500 [==============================] - 2s 5ms/step - loss: 3.1996 - accuracy: 0.2034 - val_loss: 3.5681 - val_accuracy: 0.1714\n",
      "Epoch 239/500\n",
      "500/500 [==============================] - 2s 5ms/step - loss: 3.1923 - accuracy: 0.2009 - val_loss: 3.5836 - val_accuracy: 0.1721\n",
      "Epoch 240/500\n",
      "500/500 [==============================] - 2s 5ms/step - loss: 3.1975 - accuracy: 0.2046 - val_loss: 3.6293 - val_accuracy: 0.1686\n",
      "Epoch 241/500\n",
      "500/500 [==============================] - 2s 5ms/step - loss: 3.1794 - accuracy: 0.2049 - val_loss: 3.5824 - val_accuracy: 0.1733\n",
      "Epoch 242/500\n",
      "500/500 [==============================] - 2s 5ms/step - loss: 3.1985 - accuracy: 0.2023 - val_loss: 3.5936 - val_accuracy: 0.1708\n",
      "Epoch 243/500\n",
      "500/500 [==============================] - 2s 5ms/step - loss: 3.1861 - accuracy: 0.2037 - val_loss: 3.5919 - val_accuracy: 0.1717\n",
      "Epoch 244/500\n",
      "500/500 [==============================] - 2s 5ms/step - loss: 3.1924 - accuracy: 0.2018 - val_loss: 3.5866 - val_accuracy: 0.1696\n",
      "Epoch 245/500\n",
      "500/500 [==============================] - 2s 5ms/step - loss: 3.2004 - accuracy: 0.2051 - val_loss: 3.5948 - val_accuracy: 0.1726\n",
      "Epoch 246/500\n",
      "500/500 [==============================] - 2s 5ms/step - loss: 3.1760 - accuracy: 0.2053 - val_loss: 3.5905 - val_accuracy: 0.1748\n",
      "Epoch 247/500\n",
      "500/500 [==============================] - 2s 5ms/step - loss: 3.1852 - accuracy: 0.2067 - val_loss: 3.6063 - val_accuracy: 0.1709\n",
      "Epoch 248/500\n",
      "500/500 [==============================] - 2s 5ms/step - loss: 3.1961 - accuracy: 0.1998 - val_loss: 3.5936 - val_accuracy: 0.1741\n",
      "Epoch 249/500\n",
      "500/500 [==============================] - 2s 5ms/step - loss: 3.1797 - accuracy: 0.2075 - val_loss: 3.5939 - val_accuracy: 0.1784\n",
      "Epoch 250/500\n",
      "500/500 [==============================] - 3s 6ms/step - loss: 3.1822 - accuracy: 0.2054 - val_loss: 3.5591 - val_accuracy: 0.1787\n",
      "Epoch 251/500\n",
      "500/500 [==============================] - 3s 6ms/step - loss: 3.1815 - accuracy: 0.2035 - val_loss: 3.5741 - val_accuracy: 0.1730\n",
      "Epoch 252/500\n",
      "500/500 [==============================] - 2s 5ms/step - loss: 3.1982 - accuracy: 0.2034 - val_loss: 3.6234 - val_accuracy: 0.1688\n",
      "Epoch 253/500\n",
      "500/500 [==============================] - 3s 6ms/step - loss: 3.1745 - accuracy: 0.2064 - val_loss: 3.5803 - val_accuracy: 0.1733\n",
      "Epoch 254/500\n",
      "500/500 [==============================] - 4s 8ms/step - loss: 3.1846 - accuracy: 0.2033 - val_loss: 3.5923 - val_accuracy: 0.1745\n",
      "Epoch 255/500\n",
      "500/500 [==============================] - 4s 7ms/step - loss: 3.1764 - accuracy: 0.2056 - val_loss: 3.5865 - val_accuracy: 0.1760\n",
      "Epoch 256/500\n",
      "500/500 [==============================] - 4s 9ms/step - loss: 3.1956 - accuracy: 0.2035 - val_loss: 3.6112 - val_accuracy: 0.1723\n",
      "Epoch 257/500\n",
      "500/500 [==============================] - 4s 9ms/step - loss: 3.1795 - accuracy: 0.2063 - val_loss: 3.6252 - val_accuracy: 0.1647\n",
      "Epoch 258/500\n",
      "500/500 [==============================] - 4s 7ms/step - loss: 3.1903 - accuracy: 0.2051 - val_loss: 3.6146 - val_accuracy: 0.1713\n",
      "Epoch 259/500\n",
      "500/500 [==============================] - 3s 5ms/step - loss: 3.1814 - accuracy: 0.2038 - val_loss: 3.5977 - val_accuracy: 0.1740\n",
      "Epoch 260/500\n",
      "500/500 [==============================] - 3s 5ms/step - loss: 3.1869 - accuracy: 0.2034 - val_loss: 3.5959 - val_accuracy: 0.1727\n",
      "Epoch 261/500\n",
      "500/500 [==============================] - 3s 6ms/step - loss: 3.1923 - accuracy: 0.2022 - val_loss: 3.5958 - val_accuracy: 0.1763\n",
      "Epoch 262/500\n",
      "500/500 [==============================] - 3s 6ms/step - loss: 3.1778 - accuracy: 0.2045 - val_loss: 3.5796 - val_accuracy: 0.1755\n",
      "Epoch 263/500\n",
      "500/500 [==============================] - 3s 6ms/step - loss: 3.1861 - accuracy: 0.2042 - val_loss: 3.5867 - val_accuracy: 0.1723\n",
      "Epoch 264/500\n",
      "500/500 [==============================] - 3s 7ms/step - loss: 3.1690 - accuracy: 0.2048 - val_loss: 3.6075 - val_accuracy: 0.1730\n",
      "Epoch 265/500\n",
      "500/500 [==============================] - 4s 7ms/step - loss: 3.1992 - accuracy: 0.2019 - val_loss: 3.5909 - val_accuracy: 0.1782\n",
      "Epoch 266/500\n",
      "500/500 [==============================] - 4s 8ms/step - loss: 3.1899 - accuracy: 0.2026 - val_loss: 3.5839 - val_accuracy: 0.1732\n",
      "Epoch 267/500\n",
      "500/500 [==============================] - 4s 7ms/step - loss: 3.1861 - accuracy: 0.2021 - val_loss: 3.5877 - val_accuracy: 0.1714\n",
      "Epoch 268/500\n",
      "500/500 [==============================] - 3s 5ms/step - loss: 3.1750 - accuracy: 0.2061 - val_loss: 3.6638 - val_accuracy: 0.1686\n",
      "Epoch 269/500\n",
      "500/500 [==============================] - 2s 5ms/step - loss: 3.1891 - accuracy: 0.2029 - val_loss: 3.6000 - val_accuracy: 0.1773\n",
      "Epoch 270/500\n",
      "500/500 [==============================] - 2s 5ms/step - loss: 3.1784 - accuracy: 0.2065 - val_loss: 3.6489 - val_accuracy: 0.1687\n",
      "Epoch 271/500\n",
      "500/500 [==============================] - 2s 5ms/step - loss: 3.1913 - accuracy: 0.2050 - val_loss: 3.6395 - val_accuracy: 0.1694\n",
      "Epoch 272/500\n",
      "500/500 [==============================] - 2s 5ms/step - loss: 3.1780 - accuracy: 0.2049 - val_loss: 3.6124 - val_accuracy: 0.1690\n",
      "Epoch 273/500\n",
      "500/500 [==============================] - 3s 6ms/step - loss: 3.1916 - accuracy: 0.2033 - val_loss: 3.6145 - val_accuracy: 0.1713\n",
      "Epoch 274/500\n",
      "500/500 [==============================] - 3s 5ms/step - loss: 3.1743 - accuracy: 0.2069 - val_loss: 3.6148 - val_accuracy: 0.1725\n",
      "Epoch 275/500\n",
      "500/500 [==============================] - 2s 5ms/step - loss: 3.1752 - accuracy: 0.2075 - val_loss: 3.6006 - val_accuracy: 0.1739\n",
      "Epoch 276/500\n",
      "500/500 [==============================] - 3s 5ms/step - loss: 3.1872 - accuracy: 0.2050 - val_loss: 3.6208 - val_accuracy: 0.1716\n",
      "Epoch 277/500\n",
      "500/500 [==============================] - 4s 7ms/step - loss: 3.1831 - accuracy: 0.2045 - val_loss: 3.5787 - val_accuracy: 0.1706\n",
      "Epoch 278/500\n",
      "500/500 [==============================] - 3s 6ms/step - loss: 3.1863 - accuracy: 0.2038 - val_loss: 3.6043 - val_accuracy: 0.1716\n",
      "Epoch 279/500\n",
      "500/500 [==============================] - 3s 5ms/step - loss: 3.1891 - accuracy: 0.2017 - val_loss: 3.5996 - val_accuracy: 0.1701\n",
      "Epoch 280/500\n",
      "500/500 [==============================] - 2s 5ms/step - loss: 3.1730 - accuracy: 0.2070 - val_loss: 3.6115 - val_accuracy: 0.1726\n",
      "Epoch 281/500\n",
      "500/500 [==============================] - 2s 5ms/step - loss: 3.1721 - accuracy: 0.2080 - val_loss: 3.6554 - val_accuracy: 0.1639\n",
      "Epoch 282/500\n",
      "500/500 [==============================] - 2s 5ms/step - loss: 3.1956 - accuracy: 0.2031 - val_loss: 3.6288 - val_accuracy: 0.1740\n",
      "Epoch 283/500\n",
      "500/500 [==============================] - 3s 5ms/step - loss: 3.1926 - accuracy: 0.2037 - val_loss: 3.6709 - val_accuracy: 0.1632\n",
      "Epoch 284/500\n",
      "500/500 [==============================] - 3s 5ms/step - loss: 3.1732 - accuracy: 0.2065 - val_loss: 3.6218 - val_accuracy: 0.1709\n",
      "Epoch 285/500\n",
      "500/500 [==============================] - 3s 5ms/step - loss: 3.1789 - accuracy: 0.2043 - val_loss: 3.6629 - val_accuracy: 0.1687\n",
      "Epoch 286/500\n",
      "500/500 [==============================] - 3s 5ms/step - loss: 3.1687 - accuracy: 0.2069 - val_loss: 3.6084 - val_accuracy: 0.1711\n",
      "Epoch 287/500\n",
      "500/500 [==============================] - 3s 5ms/step - loss: 3.1859 - accuracy: 0.2028 - val_loss: 3.5919 - val_accuracy: 0.1763\n",
      "Epoch 288/500\n",
      "500/500 [==============================] - 3s 5ms/step - loss: 3.1860 - accuracy: 0.2060 - val_loss: 3.6266 - val_accuracy: 0.1664\n",
      "Epoch 289/500\n",
      "500/500 [==============================] - 2s 5ms/step - loss: 3.1715 - accuracy: 0.2079 - val_loss: 3.6227 - val_accuracy: 0.1734\n",
      "Epoch 290/500\n",
      "500/500 [==============================] - 3s 5ms/step - loss: 3.1873 - accuracy: 0.2052 - val_loss: 3.6055 - val_accuracy: 0.1777\n",
      "Epoch 291/500\n",
      "500/500 [==============================] - 3s 5ms/step - loss: 3.1846 - accuracy: 0.2048 - val_loss: 3.6046 - val_accuracy: 0.1719\n",
      "Epoch 292/500\n",
      "500/500 [==============================] - 2s 5ms/step - loss: 3.1868 - accuracy: 0.2041 - val_loss: 3.6004 - val_accuracy: 0.1730\n",
      "Epoch 293/500\n",
      "500/500 [==============================] - 2s 5ms/step - loss: 3.1788 - accuracy: 0.2056 - val_loss: 3.6491 - val_accuracy: 0.1631\n",
      "Epoch 294/500\n",
      "500/500 [==============================] - 2s 5ms/step - loss: 3.1847 - accuracy: 0.2046 - val_loss: 3.5865 - val_accuracy: 0.1717\n",
      "Epoch 295/500\n",
      "500/500 [==============================] - 2s 5ms/step - loss: 3.1801 - accuracy: 0.2035 - val_loss: 3.5917 - val_accuracy: 0.1773\n",
      "Epoch 296/500\n",
      "500/500 [==============================] - 3s 5ms/step - loss: 3.1770 - accuracy: 0.2061 - val_loss: 3.5967 - val_accuracy: 0.1795\n",
      "Epoch 297/500\n",
      "500/500 [==============================] - 2s 5ms/step - loss: 3.1840 - accuracy: 0.2064 - val_loss: 3.6761 - val_accuracy: 0.1676\n",
      "Epoch 298/500\n",
      "500/500 [==============================] - 3s 5ms/step - loss: 3.1949 - accuracy: 0.2045 - val_loss: 3.6117 - val_accuracy: 0.1743\n",
      "Epoch 299/500\n",
      "500/500 [==============================] - 3s 5ms/step - loss: 3.1856 - accuracy: 0.2061 - val_loss: 3.6175 - val_accuracy: 0.1700\n",
      "Epoch 300/500\n",
      "500/500 [==============================] - 3s 5ms/step - loss: 3.1639 - accuracy: 0.2094 - val_loss: 3.6334 - val_accuracy: 0.1762\n",
      "Epoch 301/500\n",
      "500/500 [==============================] - 2s 5ms/step - loss: 3.1906 - accuracy: 0.2053 - val_loss: 3.6056 - val_accuracy: 0.1702\n",
      "Epoch 302/500\n",
      "500/500 [==============================] - 3s 5ms/step - loss: 3.1895 - accuracy: 0.2059 - val_loss: 3.6292 - val_accuracy: 0.1708\n",
      "Epoch 303/500\n",
      "500/500 [==============================] - 2s 5ms/step - loss: 3.2045 - accuracy: 0.2019 - val_loss: 3.5744 - val_accuracy: 0.1769\n",
      "Epoch 304/500\n",
      "500/500 [==============================] - 4s 7ms/step - loss: 3.1954 - accuracy: 0.2046 - val_loss: 3.6044 - val_accuracy: 0.1744\n",
      "Epoch 305/500\n",
      "500/500 [==============================] - 3s 7ms/step - loss: 3.1852 - accuracy: 0.2040 - val_loss: 3.5986 - val_accuracy: 0.1779\n",
      "Epoch 306/500\n",
      "500/500 [==============================] - 3s 6ms/step - loss: 3.1779 - accuracy: 0.2049 - val_loss: 3.6232 - val_accuracy: 0.1762\n",
      "Epoch 307/500\n",
      "500/500 [==============================] - 3s 5ms/step - loss: 3.1878 - accuracy: 0.2057 - val_loss: 3.5970 - val_accuracy: 0.1746\n",
      "Epoch 308/500\n",
      "500/500 [==============================] - 3s 5ms/step - loss: 3.1764 - accuracy: 0.2063 - val_loss: 3.6320 - val_accuracy: 0.1709\n",
      "Epoch 309/500\n",
      "500/500 [==============================] - 2s 5ms/step - loss: 3.2171 - accuracy: 0.2023 - val_loss: 3.6034 - val_accuracy: 0.1753\n",
      "Epoch 310/500\n",
      "500/500 [==============================] - 2s 5ms/step - loss: 3.1914 - accuracy: 0.2049 - val_loss: 3.6075 - val_accuracy: 0.1695\n",
      "Epoch 311/500\n",
      "500/500 [==============================] - 3s 5ms/step - loss: 3.1807 - accuracy: 0.2054 - val_loss: 3.6490 - val_accuracy: 0.1686\n",
      "Epoch 312/500\n",
      "500/500 [==============================] - 3s 5ms/step - loss: 3.1728 - accuracy: 0.2058 - val_loss: 3.6337 - val_accuracy: 0.1683\n",
      "Epoch 313/500\n",
      "500/500 [==============================] - 3s 5ms/step - loss: 3.1744 - accuracy: 0.2063 - val_loss: 3.6410 - val_accuracy: 0.1693\n",
      "Epoch 314/500\n",
      "500/500 [==============================] - 3s 6ms/step - loss: 3.1851 - accuracy: 0.2059 - val_loss: 3.5955 - val_accuracy: 0.1741\n",
      "Epoch 315/500\n",
      "500/500 [==============================] - 3s 5ms/step - loss: 3.1777 - accuracy: 0.2046 - val_loss: 3.6271 - val_accuracy: 0.1762\n",
      "Epoch 316/500\n",
      "500/500 [==============================] - 2s 5ms/step - loss: 3.1945 - accuracy: 0.2030 - val_loss: 3.6154 - val_accuracy: 0.1721\n",
      "Epoch 317/500\n",
      "500/500 [==============================] - 2s 5ms/step - loss: 3.2109 - accuracy: 0.2030 - val_loss: 3.6092 - val_accuracy: 0.1675\n",
      "Epoch 318/500\n",
      "500/500 [==============================] - 2s 5ms/step - loss: 3.1852 - accuracy: 0.2054 - val_loss: 3.6080 - val_accuracy: 0.1727\n",
      "Epoch 319/500\n",
      "500/500 [==============================] - 3s 5ms/step - loss: 3.1612 - accuracy: 0.2080 - val_loss: 3.6056 - val_accuracy: 0.1736\n",
      "Epoch 320/500\n",
      "500/500 [==============================] - 2s 5ms/step - loss: 3.1880 - accuracy: 0.2066 - val_loss: 3.5928 - val_accuracy: 0.1756\n",
      "Epoch 321/500\n",
      "500/500 [==============================] - 2s 5ms/step - loss: 3.1910 - accuracy: 0.2035 - val_loss: 3.6214 - val_accuracy: 0.1742\n",
      "Epoch 322/500\n",
      "500/500 [==============================] - 3s 5ms/step - loss: 3.1782 - accuracy: 0.2060 - val_loss: 3.5946 - val_accuracy: 0.1720\n",
      "Epoch 323/500\n",
      "500/500 [==============================] - 3s 5ms/step - loss: 3.1818 - accuracy: 0.2066 - val_loss: 3.5871 - val_accuracy: 0.1750\n",
      "Epoch 324/500\n",
      "500/500 [==============================] - 3s 5ms/step - loss: 3.1803 - accuracy: 0.2044 - val_loss: 3.6087 - val_accuracy: 0.1729\n",
      "Epoch 325/500\n",
      "500/500 [==============================] - 2s 5ms/step - loss: 3.1797 - accuracy: 0.2082 - val_loss: 3.6727 - val_accuracy: 0.1658\n",
      "Epoch 326/500\n",
      "500/500 [==============================] - 2s 5ms/step - loss: 3.1763 - accuracy: 0.2081 - val_loss: 3.5936 - val_accuracy: 0.1760\n",
      "Epoch 327/500\n",
      "500/500 [==============================] - 3s 5ms/step - loss: 3.1709 - accuracy: 0.2083 - val_loss: 3.6127 - val_accuracy: 0.1734\n",
      "Epoch 328/500\n",
      "500/500 [==============================] - 2s 5ms/step - loss: 3.1918 - accuracy: 0.2052 - val_loss: 3.7136 - val_accuracy: 0.1545\n",
      "Epoch 329/500\n",
      "500/500 [==============================] - 2s 5ms/step - loss: 3.2005 - accuracy: 0.2050 - val_loss: 3.5730 - val_accuracy: 0.1754\n",
      "Epoch 330/500\n",
      "500/500 [==============================] - 3s 6ms/step - loss: 3.1695 - accuracy: 0.2102 - val_loss: 3.6198 - val_accuracy: 0.1708\n",
      "Epoch 331/500\n",
      "500/500 [==============================] - 3s 6ms/step - loss: 3.1717 - accuracy: 0.2074 - val_loss: 3.6136 - val_accuracy: 0.1702\n",
      "Epoch 332/500\n",
      "500/500 [==============================] - 3s 6ms/step - loss: 3.1756 - accuracy: 0.2075 - val_loss: 3.6613 - val_accuracy: 0.1758\n",
      "Epoch 333/500\n",
      "500/500 [==============================] - 3s 5ms/step - loss: 3.1686 - accuracy: 0.2077 - val_loss: 3.6407 - val_accuracy: 0.1732\n",
      "Epoch 334/500\n",
      "500/500 [==============================] - 4s 8ms/step - loss: 3.1715 - accuracy: 0.2077 - val_loss: 3.5926 - val_accuracy: 0.1767\n",
      "Epoch 335/500\n",
      "500/500 [==============================] - 5s 11ms/step - loss: 3.1641 - accuracy: 0.2084 - val_loss: 3.5850 - val_accuracy: 0.1758\n",
      "Epoch 336/500\n",
      "500/500 [==============================] - 4s 8ms/step - loss: 3.1743 - accuracy: 0.2051 - val_loss: 3.6172 - val_accuracy: 0.1716\n",
      "Epoch 337/500\n",
      "500/500 [==============================] - 5s 9ms/step - loss: 3.1802 - accuracy: 0.2079 - val_loss: 3.6322 - val_accuracy: 0.1697\n",
      "Epoch 338/500\n",
      "500/500 [==============================] - 3s 5ms/step - loss: 3.1833 - accuracy: 0.2052 - val_loss: 3.6198 - val_accuracy: 0.1711\n",
      "Epoch 339/500\n",
      "500/500 [==============================] - 3s 5ms/step - loss: 3.1751 - accuracy: 0.2061 - val_loss: 3.6024 - val_accuracy: 0.1765\n",
      "Epoch 340/500\n",
      "500/500 [==============================] - 3s 5ms/step - loss: 3.1833 - accuracy: 0.2059 - val_loss: 3.5936 - val_accuracy: 0.1797\n",
      "Epoch 341/500\n",
      "500/500 [==============================] - 3s 5ms/step - loss: 3.1763 - accuracy: 0.2077 - val_loss: 3.6263 - val_accuracy: 0.1692\n",
      "Epoch 342/500\n",
      "500/500 [==============================] - 3s 5ms/step - loss: 3.1749 - accuracy: 0.2063 - val_loss: 3.6150 - val_accuracy: 0.1761\n",
      "Epoch 343/500\n",
      "500/500 [==============================] - 2s 5ms/step - loss: 3.1753 - accuracy: 0.2084 - val_loss: 3.6448 - val_accuracy: 0.1761\n",
      "Epoch 344/500\n",
      "500/500 [==============================] - 2s 5ms/step - loss: 3.1882 - accuracy: 0.2074 - val_loss: 3.6605 - val_accuracy: 0.1693\n",
      "Epoch 345/500\n",
      "500/500 [==============================] - 4s 7ms/step - loss: 3.1685 - accuracy: 0.2075 - val_loss: 3.6384 - val_accuracy: 0.1738\n",
      "Epoch 346/500\n",
      "500/500 [==============================] - 3s 7ms/step - loss: 3.1685 - accuracy: 0.2090 - val_loss: 3.5888 - val_accuracy: 0.1765\n",
      "Epoch 347/500\n",
      "500/500 [==============================] - 3s 5ms/step - loss: 3.1707 - accuracy: 0.2074 - val_loss: 3.6447 - val_accuracy: 0.1718\n",
      "Epoch 348/500\n",
      "500/500 [==============================] - 2s 5ms/step - loss: 3.1838 - accuracy: 0.2045 - val_loss: 3.6147 - val_accuracy: 0.1743\n",
      "Epoch 349/500\n",
      "500/500 [==============================] - 3s 6ms/step - loss: 3.1683 - accuracy: 0.2072 - val_loss: 3.6315 - val_accuracy: 0.1673\n",
      "Epoch 350/500\n",
      "500/500 [==============================] - 3s 6ms/step - loss: 3.1781 - accuracy: 0.2063 - val_loss: 3.5929 - val_accuracy: 0.1759\n",
      "Epoch 351/500\n",
      "500/500 [==============================] - 2s 5ms/step - loss: 3.1703 - accuracy: 0.2080 - val_loss: 3.6406 - val_accuracy: 0.1722\n",
      "Epoch 352/500\n",
      "500/500 [==============================] - 3s 5ms/step - loss: 3.1852 - accuracy: 0.2072 - val_loss: 3.6525 - val_accuracy: 0.1687\n",
      "Epoch 353/500\n",
      "500/500 [==============================] - 3s 6ms/step - loss: 3.1769 - accuracy: 0.2081 - val_loss: 3.6243 - val_accuracy: 0.1677\n",
      "Epoch 354/500\n",
      "500/500 [==============================] - 3s 6ms/step - loss: 3.1789 - accuracy: 0.2087 - val_loss: 3.6187 - val_accuracy: 0.1720\n",
      "Epoch 355/500\n",
      "500/500 [==============================] - 3s 5ms/step - loss: 3.1830 - accuracy: 0.2057 - val_loss: 3.6206 - val_accuracy: 0.1755\n",
      "Epoch 356/500\n",
      "500/500 [==============================] - 3s 6ms/step - loss: 3.1700 - accuracy: 0.2087 - val_loss: 3.6536 - val_accuracy: 0.1679\n",
      "Epoch 357/500\n",
      "500/500 [==============================] - 3s 6ms/step - loss: 3.1881 - accuracy: 0.2052 - val_loss: 3.6398 - val_accuracy: 0.1752\n",
      "Epoch 358/500\n",
      "500/500 [==============================] - 3s 6ms/step - loss: 3.1884 - accuracy: 0.2053 - val_loss: 3.6539 - val_accuracy: 0.1698\n",
      "Epoch 359/500\n",
      "500/500 [==============================] - 3s 5ms/step - loss: 3.1905 - accuracy: 0.2056 - val_loss: 3.6524 - val_accuracy: 0.1707\n",
      "Epoch 360/500\n",
      "500/500 [==============================] - 3s 5ms/step - loss: 3.1570 - accuracy: 0.2077 - val_loss: 3.6183 - val_accuracy: 0.1804\n",
      "Epoch 361/500\n",
      "500/500 [==============================] - 3s 5ms/step - loss: 3.1800 - accuracy: 0.2075 - val_loss: 3.6465 - val_accuracy: 0.1735\n",
      "Epoch 362/500\n",
      "500/500 [==============================] - 3s 5ms/step - loss: 3.1844 - accuracy: 0.2078 - val_loss: 3.6157 - val_accuracy: 0.1769\n",
      "Epoch 363/500\n",
      "500/500 [==============================] - 3s 5ms/step - loss: 3.1767 - accuracy: 0.2077 - val_loss: 3.6289 - val_accuracy: 0.1753\n",
      "Epoch 364/500\n",
      "500/500 [==============================] - 3s 5ms/step - loss: 3.1918 - accuracy: 0.2055 - val_loss: 3.6184 - val_accuracy: 0.1770\n",
      "Epoch 365/500\n",
      "500/500 [==============================] - 3s 5ms/step - loss: 3.1673 - accuracy: 0.2079 - val_loss: 3.6259 - val_accuracy: 0.1784\n",
      "Epoch 366/500\n",
      "500/500 [==============================] - 3s 5ms/step - loss: 3.1719 - accuracy: 0.2059 - val_loss: 3.6329 - val_accuracy: 0.1767\n",
      "Epoch 367/500\n",
      "500/500 [==============================] - 3s 5ms/step - loss: 3.1770 - accuracy: 0.2079 - val_loss: 3.6226 - val_accuracy: 0.1749\n",
      "Epoch 368/500\n",
      "500/500 [==============================] - 3s 5ms/step - loss: 3.1813 - accuracy: 0.2076 - val_loss: 3.6718 - val_accuracy: 0.1690\n",
      "Epoch 369/500\n",
      "500/500 [==============================] - 3s 5ms/step - loss: 3.1801 - accuracy: 0.2097 - val_loss: 3.6477 - val_accuracy: 0.1697\n",
      "Epoch 370/500\n",
      "500/500 [==============================] - 3s 5ms/step - loss: 3.2038 - accuracy: 0.2030 - val_loss: 3.6146 - val_accuracy: 0.1758\n",
      "Epoch 371/500\n",
      "500/500 [==============================] - 3s 5ms/step - loss: 3.1622 - accuracy: 0.2096 - val_loss: 3.6242 - val_accuracy: 0.1761\n",
      "Epoch 372/500\n",
      "500/500 [==============================] - 3s 5ms/step - loss: 3.1953 - accuracy: 0.2034 - val_loss: 3.6213 - val_accuracy: 0.1722\n",
      "Epoch 373/500\n",
      "500/500 [==============================] - 3s 5ms/step - loss: 3.1658 - accuracy: 0.2063 - val_loss: 3.6426 - val_accuracy: 0.1704\n",
      "Epoch 374/500\n",
      "500/500 [==============================] - 3s 7ms/step - loss: 3.1853 - accuracy: 0.2062 - val_loss: 3.6158 - val_accuracy: 0.1756\n",
      "Epoch 375/500\n",
      "500/500 [==============================] - 3s 6ms/step - loss: 3.1749 - accuracy: 0.2103 - val_loss: 3.6327 - val_accuracy: 0.1767\n",
      "Epoch 376/500\n",
      "500/500 [==============================] - 3s 5ms/step - loss: 3.1870 - accuracy: 0.2069 - val_loss: 3.6357 - val_accuracy: 0.1720\n",
      "Epoch 377/500\n",
      "500/500 [==============================] - 3s 5ms/step - loss: 3.1716 - accuracy: 0.2079 - val_loss: 3.6270 - val_accuracy: 0.1757\n",
      "Epoch 378/500\n",
      "500/500 [==============================] - 3s 7ms/step - loss: 3.1694 - accuracy: 0.2113 - val_loss: 3.6863 - val_accuracy: 0.1734\n",
      "Epoch 379/500\n",
      "500/500 [==============================] - 4s 8ms/step - loss: 3.1836 - accuracy: 0.2060 - val_loss: 3.6333 - val_accuracy: 0.1726\n",
      "Epoch 380/500\n",
      "500/500 [==============================] - 5s 9ms/step - loss: 3.1735 - accuracy: 0.2047 - val_loss: 3.6153 - val_accuracy: 0.1675\n",
      "Epoch 381/500\n",
      "500/500 [==============================] - 3s 5ms/step - loss: 3.1639 - accuracy: 0.2074 - val_loss: 3.6366 - val_accuracy: 0.1740\n",
      "Epoch 382/500\n",
      "500/500 [==============================] - 3s 5ms/step - loss: 3.1988 - accuracy: 0.2030 - val_loss: 3.6213 - val_accuracy: 0.1772\n",
      "Epoch 383/500\n",
      "500/500 [==============================] - 2s 5ms/step - loss: 3.1609 - accuracy: 0.2101 - val_loss: 3.6748 - val_accuracy: 0.1640\n",
      "Epoch 384/500\n",
      "500/500 [==============================] - 2s 5ms/step - loss: 3.1830 - accuracy: 0.2071 - val_loss: 3.6405 - val_accuracy: 0.1738\n",
      "Epoch 385/500\n",
      "500/500 [==============================] - 3s 5ms/step - loss: 3.1798 - accuracy: 0.2071 - val_loss: 3.6542 - val_accuracy: 0.1763\n",
      "Epoch 386/500\n",
      "500/500 [==============================] - 3s 5ms/step - loss: 3.1725 - accuracy: 0.2109 - val_loss: 3.6493 - val_accuracy: 0.1776\n",
      "Epoch 387/500\n",
      "500/500 [==============================] - 3s 5ms/step - loss: 3.1750 - accuracy: 0.2080 - val_loss: 3.6288 - val_accuracy: 0.1768\n",
      "Epoch 388/500\n",
      "500/500 [==============================] - 3s 5ms/step - loss: 3.1632 - accuracy: 0.2078 - val_loss: 3.6124 - val_accuracy: 0.1744\n",
      "Epoch 389/500\n",
      "500/500 [==============================] - 3s 5ms/step - loss: 3.1678 - accuracy: 0.2105 - val_loss: 3.6431 - val_accuracy: 0.1733\n",
      "Epoch 390/500\n",
      "500/500 [==============================] - 4s 7ms/step - loss: 3.1919 - accuracy: 0.2049 - val_loss: 3.6831 - val_accuracy: 0.1681\n",
      "Epoch 391/500\n",
      "500/500 [==============================] - 3s 5ms/step - loss: 3.1830 - accuracy: 0.2074 - val_loss: 3.6727 - val_accuracy: 0.1752\n",
      "Epoch 392/500\n",
      "500/500 [==============================] - 3s 5ms/step - loss: 3.1822 - accuracy: 0.2056 - val_loss: 3.6587 - val_accuracy: 0.1728\n",
      "Epoch 393/500\n",
      "500/500 [==============================] - 3s 6ms/step - loss: 3.1780 - accuracy: 0.2052 - val_loss: 3.7196 - val_accuracy: 0.1640\n",
      "Epoch 394/500\n",
      "500/500 [==============================] - 3s 5ms/step - loss: 3.1920 - accuracy: 0.2031 - val_loss: 3.6390 - val_accuracy: 0.1748\n",
      "Epoch 395/500\n",
      "500/500 [==============================] - 3s 6ms/step - loss: 3.1957 - accuracy: 0.2055 - val_loss: 3.6561 - val_accuracy: 0.1717\n",
      "Epoch 396/500\n",
      "500/500 [==============================] - 3s 5ms/step - loss: 3.1858 - accuracy: 0.2081 - val_loss: 3.7265 - val_accuracy: 0.1711\n",
      "Epoch 397/500\n",
      "500/500 [==============================] - 3s 6ms/step - loss: 3.1919 - accuracy: 0.2062 - val_loss: 3.7061 - val_accuracy: 0.1666\n",
      "Epoch 398/500\n",
      "500/500 [==============================] - 3s 5ms/step - loss: 3.1720 - accuracy: 0.2094 - val_loss: 3.6400 - val_accuracy: 0.1754\n",
      "Epoch 399/500\n",
      "500/500 [==============================] - 3s 5ms/step - loss: 3.1792 - accuracy: 0.2065 - val_loss: 3.6210 - val_accuracy: 0.1696\n",
      "Epoch 400/500\n",
      "500/500 [==============================] - 3s 5ms/step - loss: 3.1770 - accuracy: 0.2082 - val_loss: 3.6381 - val_accuracy: 0.1753\n",
      "Epoch 401/500\n",
      "500/500 [==============================] - 3s 5ms/step - loss: 3.1914 - accuracy: 0.2065 - val_loss: 3.6343 - val_accuracy: 0.1700\n",
      "Epoch 402/500\n",
      "500/500 [==============================] - 3s 5ms/step - loss: 3.1677 - accuracy: 0.2087 - val_loss: 3.6894 - val_accuracy: 0.1703\n",
      "Epoch 403/500\n",
      "500/500 [==============================] - 3s 5ms/step - loss: 3.1857 - accuracy: 0.2068 - val_loss: 3.6849 - val_accuracy: 0.1679\n",
      "Epoch 404/500\n",
      "500/500 [==============================] - 3s 5ms/step - loss: 3.1825 - accuracy: 0.2072 - val_loss: 3.6746 - val_accuracy: 0.1679\n",
      "Epoch 405/500\n",
      "500/500 [==============================] - 3s 5ms/step - loss: 3.1875 - accuracy: 0.2068 - val_loss: 3.6422 - val_accuracy: 0.1695\n",
      "Epoch 406/500\n",
      "500/500 [==============================] - 3s 5ms/step - loss: 3.1815 - accuracy: 0.2076 - val_loss: 3.6284 - val_accuracy: 0.1743\n",
      "Epoch 407/500\n",
      "500/500 [==============================] - 3s 5ms/step - loss: 3.1690 - accuracy: 0.2107 - val_loss: 3.6516 - val_accuracy: 0.1702\n",
      "Epoch 408/500\n",
      "500/500 [==============================] - 2s 5ms/step - loss: 3.1778 - accuracy: 0.2076 - val_loss: 3.6776 - val_accuracy: 0.1719\n",
      "Epoch 409/500\n",
      "500/500 [==============================] - 3s 5ms/step - loss: 3.1869 - accuracy: 0.2054 - val_loss: 3.6553 - val_accuracy: 0.1723\n",
      "Epoch 410/500\n",
      "500/500 [==============================] - 2s 5ms/step - loss: 3.1702 - accuracy: 0.2096 - val_loss: 3.6570 - val_accuracy: 0.1766\n",
      "Epoch 411/500\n",
      "500/500 [==============================] - 3s 5ms/step - loss: 3.1926 - accuracy: 0.2047 - val_loss: 3.6586 - val_accuracy: 0.1706\n",
      "Epoch 412/500\n",
      "500/500 [==============================] - 3s 5ms/step - loss: 3.1753 - accuracy: 0.2090 - val_loss: 3.6851 - val_accuracy: 0.1708\n",
      "Epoch 413/500\n",
      "500/500 [==============================] - 3s 5ms/step - loss: 3.1881 - accuracy: 0.2053 - val_loss: 3.6995 - val_accuracy: 0.1711\n",
      "Epoch 414/500\n",
      "500/500 [==============================] - 2s 5ms/step - loss: 3.1872 - accuracy: 0.2073 - val_loss: 3.7241 - val_accuracy: 0.1645\n",
      "Epoch 415/500\n",
      "500/500 [==============================] - 2s 5ms/step - loss: 3.1740 - accuracy: 0.2092 - val_loss: 3.6201 - val_accuracy: 0.1741\n",
      "Epoch 416/500\n",
      "500/500 [==============================] - 3s 5ms/step - loss: 3.2063 - accuracy: 0.2051 - val_loss: 3.7077 - val_accuracy: 0.1644\n",
      "Epoch 417/500\n",
      "500/500 [==============================] - 3s 5ms/step - loss: 3.1808 - accuracy: 0.2054 - val_loss: 3.6681 - val_accuracy: 0.1684\n",
      "Epoch 418/500\n",
      "500/500 [==============================] - 3s 6ms/step - loss: 3.1894 - accuracy: 0.2059 - val_loss: 3.6806 - val_accuracy: 0.1699\n",
      "Epoch 419/500\n",
      "500/500 [==============================] - 3s 6ms/step - loss: 3.1807 - accuracy: 0.2072 - val_loss: 3.7091 - val_accuracy: 0.1677\n",
      "Epoch 420/500\n",
      "500/500 [==============================] - 5s 10ms/step - loss: 3.1866 - accuracy: 0.2071 - val_loss: 3.6792 - val_accuracy: 0.1649\n",
      "Epoch 421/500\n",
      "500/500 [==============================] - 4s 7ms/step - loss: 3.1778 - accuracy: 0.2078 - val_loss: 3.6546 - val_accuracy: 0.1697\n",
      "Epoch 422/500\n",
      "500/500 [==============================] - 3s 6ms/step - loss: 3.1795 - accuracy: 0.2089 - val_loss: 3.6669 - val_accuracy: 0.1713\n",
      "Epoch 423/500\n",
      "500/500 [==============================] - 3s 7ms/step - loss: 3.1767 - accuracy: 0.2097 - val_loss: 3.6502 - val_accuracy: 0.1728\n",
      "Epoch 424/500\n",
      "500/500 [==============================] - 4s 8ms/step - loss: 3.1737 - accuracy: 0.2086 - val_loss: 3.6781 - val_accuracy: 0.1630\n",
      "Epoch 425/500\n",
      "500/500 [==============================] - 3s 6ms/step - loss: 3.1856 - accuracy: 0.2070 - val_loss: 3.6746 - val_accuracy: 0.1653\n",
      "Epoch 426/500\n",
      "500/500 [==============================] - 3s 6ms/step - loss: 3.1799 - accuracy: 0.2079 - val_loss: 3.6191 - val_accuracy: 0.1704\n",
      "Epoch 427/500\n",
      "500/500 [==============================] - 3s 6ms/step - loss: 3.1781 - accuracy: 0.2070 - val_loss: 3.6506 - val_accuracy: 0.1747\n",
      "Epoch 428/500\n",
      "500/500 [==============================] - 3s 6ms/step - loss: 3.1930 - accuracy: 0.2082 - val_loss: 3.6944 - val_accuracy: 0.1594\n",
      "Epoch 429/500\n",
      "500/500 [==============================] - 3s 6ms/step - loss: 3.1793 - accuracy: 0.2074 - val_loss: 3.6575 - val_accuracy: 0.1717\n",
      "Epoch 430/500\n",
      "500/500 [==============================] - 3s 6ms/step - loss: 3.1792 - accuracy: 0.2062 - val_loss: 3.6867 - val_accuracy: 0.1590\n",
      "Epoch 431/500\n",
      "500/500 [==============================] - 3s 6ms/step - loss: 3.1786 - accuracy: 0.2084 - val_loss: 3.6338 - val_accuracy: 0.1696\n",
      "Epoch 432/500\n",
      "500/500 [==============================] - 3s 6ms/step - loss: 3.1855 - accuracy: 0.2081 - val_loss: 3.6971 - val_accuracy: 0.1575\n",
      "Epoch 433/500\n",
      "500/500 [==============================] - 3s 6ms/step - loss: 3.1804 - accuracy: 0.2080 - val_loss: 3.7003 - val_accuracy: 0.1594\n",
      "Epoch 434/500\n",
      "500/500 [==============================] - 3s 5ms/step - loss: 3.2235 - accuracy: 0.2002 - val_loss: 3.6012 - val_accuracy: 0.1762\n",
      "Epoch 435/500\n",
      "500/500 [==============================] - 3s 5ms/step - loss: 3.1755 - accuracy: 0.2048 - val_loss: 3.6795 - val_accuracy: 0.1763\n",
      "Epoch 436/500\n",
      "500/500 [==============================] - 3s 5ms/step - loss: 3.1795 - accuracy: 0.2093 - val_loss: 3.6374 - val_accuracy: 0.1700\n",
      "Epoch 437/500\n",
      "500/500 [==============================] - 3s 5ms/step - loss: 3.2010 - accuracy: 0.2055 - val_loss: 3.6709 - val_accuracy: 0.1669\n",
      "Epoch 438/500\n",
      "500/500 [==============================] - 3s 5ms/step - loss: 3.2066 - accuracy: 0.2029 - val_loss: 3.7485 - val_accuracy: 0.1721\n",
      "Epoch 439/500\n",
      "500/500 [==============================] - 3s 5ms/step - loss: 3.1760 - accuracy: 0.2081 - val_loss: 3.6565 - val_accuracy: 0.1747\n",
      "Epoch 440/500\n",
      "500/500 [==============================] - 3s 6ms/step - loss: 3.1706 - accuracy: 0.2101 - val_loss: 3.6665 - val_accuracy: 0.1712\n",
      "Epoch 441/500\n",
      "500/500 [==============================] - 3s 6ms/step - loss: 3.1832 - accuracy: 0.2057 - val_loss: 3.6612 - val_accuracy: 0.1696\n",
      "Epoch 442/500\n",
      "500/500 [==============================] - 3s 6ms/step - loss: 3.1736 - accuracy: 0.2113 - val_loss: 3.6379 - val_accuracy: 0.1686\n",
      "Epoch 443/500\n",
      "500/500 [==============================] - 3s 6ms/step - loss: 3.1930 - accuracy: 0.2057 - val_loss: 3.6692 - val_accuracy: 0.1704\n",
      "Epoch 444/500\n",
      "500/500 [==============================] - 3s 5ms/step - loss: 3.1857 - accuracy: 0.2070 - val_loss: 3.6492 - val_accuracy: 0.1714\n",
      "Epoch 445/500\n",
      "500/500 [==============================] - 3s 5ms/step - loss: 3.1631 - accuracy: 0.2092 - val_loss: 3.6997 - val_accuracy: 0.1729\n",
      "Epoch 446/500\n",
      "500/500 [==============================] - 3s 6ms/step - loss: 3.1705 - accuracy: 0.2085 - val_loss: 3.6759 - val_accuracy: 0.1675\n",
      "Epoch 447/500\n",
      "500/500 [==============================] - 3s 5ms/step - loss: 3.1848 - accuracy: 0.2069 - val_loss: 3.6637 - val_accuracy: 0.1690\n",
      "Epoch 448/500\n",
      "500/500 [==============================] - 3s 5ms/step - loss: 3.1831 - accuracy: 0.2077 - val_loss: 3.6280 - val_accuracy: 0.1719\n",
      "Epoch 449/500\n",
      "500/500 [==============================] - 3s 6ms/step - loss: 3.1859 - accuracy: 0.2068 - val_loss: 3.6591 - val_accuracy: 0.1703\n",
      "Epoch 450/500\n",
      "500/500 [==============================] - 3s 5ms/step - loss: 3.1804 - accuracy: 0.2078 - val_loss: 3.6463 - val_accuracy: 0.1695\n",
      "Epoch 451/500\n",
      "500/500 [==============================] - 3s 6ms/step - loss: 3.1835 - accuracy: 0.2057 - val_loss: 3.6294 - val_accuracy: 0.1746\n",
      "Epoch 452/500\n",
      "500/500 [==============================] - 3s 6ms/step - loss: 3.1763 - accuracy: 0.2078 - val_loss: 3.6705 - val_accuracy: 0.1729\n",
      "Epoch 453/500\n",
      "500/500 [==============================] - 3s 5ms/step - loss: 3.1805 - accuracy: 0.2079 - val_loss: 3.6158 - val_accuracy: 0.1702\n",
      "Epoch 454/500\n",
      "500/500 [==============================] - 3s 5ms/step - loss: 3.1797 - accuracy: 0.2074 - val_loss: 3.6519 - val_accuracy: 0.1740\n",
      "Epoch 455/500\n",
      "500/500 [==============================] - 3s 5ms/step - loss: 3.1855 - accuracy: 0.2066 - val_loss: 3.6461 - val_accuracy: 0.1734\n",
      "Epoch 456/500\n",
      "500/500 [==============================] - 3s 5ms/step - loss: 3.1953 - accuracy: 0.2054 - val_loss: 3.6253 - val_accuracy: 0.1668\n",
      "Epoch 457/500\n",
      "500/500 [==============================] - 3s 6ms/step - loss: 3.1880 - accuracy: 0.2074 - val_loss: 3.6435 - val_accuracy: 0.1744\n",
      "Epoch 458/500\n",
      "500/500 [==============================] - 3s 6ms/step - loss: 3.1799 - accuracy: 0.2067 - val_loss: 3.6340 - val_accuracy: 0.1733\n",
      "Epoch 459/500\n",
      "500/500 [==============================] - 3s 5ms/step - loss: 3.1947 - accuracy: 0.2074 - val_loss: 3.6162 - val_accuracy: 0.1763\n",
      "Epoch 460/500\n",
      "500/500 [==============================] - 3s 5ms/step - loss: 3.1745 - accuracy: 0.2091 - val_loss: 3.6406 - val_accuracy: 0.1681\n",
      "Epoch 461/500\n",
      "500/500 [==============================] - 3s 6ms/step - loss: 3.1950 - accuracy: 0.2054 - val_loss: 3.6166 - val_accuracy: 0.1695\n",
      "Epoch 462/500\n",
      "500/500 [==============================] - 3s 5ms/step - loss: 3.1949 - accuracy: 0.2056 - val_loss: 3.6414 - val_accuracy: 0.1737\n",
      "Epoch 463/500\n",
      "500/500 [==============================] - 3s 6ms/step - loss: 3.1726 - accuracy: 0.2096 - val_loss: 3.6451 - val_accuracy: 0.1700\n",
      "Epoch 464/500\n",
      "500/500 [==============================] - 3s 5ms/step - loss: 3.1762 - accuracy: 0.2073 - val_loss: 3.6248 - val_accuracy: 0.1764\n",
      "Epoch 465/500\n",
      "500/500 [==============================] - 3s 5ms/step - loss: 3.1750 - accuracy: 0.2074 - val_loss: 3.6694 - val_accuracy: 0.1680\n",
      "Epoch 466/500\n",
      "500/500 [==============================] - 3s 6ms/step - loss: 3.1751 - accuracy: 0.2093 - val_loss: 3.6597 - val_accuracy: 0.1719\n",
      "Epoch 467/500\n",
      "500/500 [==============================] - 3s 6ms/step - loss: 3.1958 - accuracy: 0.2026 - val_loss: 3.6798 - val_accuracy: 0.1658\n",
      "Epoch 468/500\n",
      "500/500 [==============================] - 3s 6ms/step - loss: 3.1790 - accuracy: 0.2060 - val_loss: 3.6516 - val_accuracy: 0.1761\n",
      "Epoch 469/500\n",
      "500/500 [==============================] - 3s 5ms/step - loss: 3.1925 - accuracy: 0.2068 - val_loss: 3.6968 - val_accuracy: 0.1670\n",
      "Epoch 470/500\n",
      "500/500 [==============================] - 3s 5ms/step - loss: 3.1860 - accuracy: 0.2098 - val_loss: 3.6249 - val_accuracy: 0.1730\n",
      "Epoch 471/500\n",
      "500/500 [==============================] - 3s 6ms/step - loss: 3.1848 - accuracy: 0.2074 - val_loss: 3.6569 - val_accuracy: 0.1716\n",
      "Epoch 472/500\n",
      "500/500 [==============================] - 3s 5ms/step - loss: 3.2043 - accuracy: 0.2069 - val_loss: 3.6727 - val_accuracy: 0.1713\n",
      "Epoch 473/500\n",
      "500/500 [==============================] - 3s 6ms/step - loss: 3.1911 - accuracy: 0.2085 - val_loss: 3.6314 - val_accuracy: 0.1699\n",
      "Epoch 474/500\n",
      "500/500 [==============================] - 3s 5ms/step - loss: 3.1969 - accuracy: 0.2044 - val_loss: 3.6675 - val_accuracy: 0.1729\n",
      "Epoch 475/500\n",
      "500/500 [==============================] - 3s 6ms/step - loss: 3.1903 - accuracy: 0.2066 - val_loss: 3.6522 - val_accuracy: 0.1672\n",
      "Epoch 476/500\n",
      "500/500 [==============================] - 3s 5ms/step - loss: 3.1818 - accuracy: 0.2066 - val_loss: 3.6715 - val_accuracy: 0.1681\n",
      "Epoch 477/500\n",
      "500/500 [==============================] - 3s 6ms/step - loss: 3.1768 - accuracy: 0.2094 - val_loss: 3.6249 - val_accuracy: 0.1711\n",
      "Epoch 478/500\n",
      "500/500 [==============================] - 3s 5ms/step - loss: 3.2178 - accuracy: 0.2032 - val_loss: 3.6613 - val_accuracy: 0.1690\n",
      "Epoch 479/500\n",
      "500/500 [==============================] - 3s 6ms/step - loss: 3.2117 - accuracy: 0.2007 - val_loss: 3.6273 - val_accuracy: 0.1722\n",
      "Epoch 480/500\n",
      "500/500 [==============================] - 3s 6ms/step - loss: 3.2055 - accuracy: 0.2015 - val_loss: 3.6455 - val_accuracy: 0.1700\n",
      "Epoch 481/500\n",
      "500/500 [==============================] - 3s 5ms/step - loss: 3.1927 - accuracy: 0.2068 - val_loss: 3.6917 - val_accuracy: 0.1666\n",
      "Epoch 482/500\n",
      "500/500 [==============================] - 3s 5ms/step - loss: 3.1955 - accuracy: 0.2056 - val_loss: 3.6484 - val_accuracy: 0.1764\n",
      "Epoch 483/500\n",
      "500/500 [==============================] - 3s 5ms/step - loss: 3.1995 - accuracy: 0.2063 - val_loss: 3.6272 - val_accuracy: 0.1714\n",
      "Epoch 484/500\n",
      "500/500 [==============================] - 3s 6ms/step - loss: 3.2005 - accuracy: 0.2059 - val_loss: 3.6639 - val_accuracy: 0.1678\n",
      "Epoch 485/500\n",
      "500/500 [==============================] - 3s 6ms/step - loss: 3.2068 - accuracy: 0.2030 - val_loss: 3.6605 - val_accuracy: 0.1631\n",
      "Epoch 486/500\n",
      "500/500 [==============================] - 3s 6ms/step - loss: 3.2040 - accuracy: 0.2051 - val_loss: 3.6759 - val_accuracy: 0.1689\n",
      "Epoch 487/500\n",
      "500/500 [==============================] - 3s 6ms/step - loss: 3.1892 - accuracy: 0.2074 - val_loss: 3.6458 - val_accuracy: 0.1716\n",
      "Epoch 488/500\n",
      "500/500 [==============================] - 3s 5ms/step - loss: 3.1980 - accuracy: 0.2044 - val_loss: 3.6137 - val_accuracy: 0.1788\n",
      "Epoch 489/500\n",
      "500/500 [==============================] - 3s 5ms/step - loss: 3.2041 - accuracy: 0.2029 - val_loss: 3.7463 - val_accuracy: 0.1611\n",
      "Epoch 490/500\n",
      "500/500 [==============================] - 3s 5ms/step - loss: 3.1991 - accuracy: 0.2033 - val_loss: 3.6651 - val_accuracy: 0.1660\n",
      "Epoch 491/500\n",
      "500/500 [==============================] - 3s 5ms/step - loss: 3.2010 - accuracy: 0.2060 - val_loss: 3.6534 - val_accuracy: 0.1711\n",
      "Epoch 492/500\n",
      "500/500 [==============================] - 3s 5ms/step - loss: 3.1903 - accuracy: 0.2069 - val_loss: 3.6817 - val_accuracy: 0.1685\n",
      "Epoch 493/500\n",
      "500/500 [==============================] - 3s 6ms/step - loss: 3.1848 - accuracy: 0.2062 - val_loss: 3.6573 - val_accuracy: 0.1665\n",
      "Epoch 494/500\n",
      "500/500 [==============================] - 3s 6ms/step - loss: 3.2034 - accuracy: 0.2051 - val_loss: 3.7582 - val_accuracy: 0.1635\n",
      "Epoch 495/500\n",
      "500/500 [==============================] - 3s 6ms/step - loss: 3.1902 - accuracy: 0.2080 - val_loss: 3.7704 - val_accuracy: 0.1553\n",
      "Epoch 496/500\n",
      "500/500 [==============================] - 3s 6ms/step - loss: 3.2282 - accuracy: 0.2005 - val_loss: 3.6534 - val_accuracy: 0.1667\n",
      "Epoch 497/500\n",
      "500/500 [==============================] - 3s 6ms/step - loss: 3.1833 - accuracy: 0.2065 - val_loss: 3.6666 - val_accuracy: 0.1693\n",
      "Epoch 498/500\n",
      "500/500 [==============================] - 3s 6ms/step - loss: 3.1981 - accuracy: 0.2053 - val_loss: 3.6297 - val_accuracy: 0.1730\n",
      "Epoch 499/500\n",
      "500/500 [==============================] - 3s 5ms/step - loss: 3.1923 - accuracy: 0.2041 - val_loss: 3.6577 - val_accuracy: 0.1711\n",
      "Epoch 500/500\n",
      "500/500 [==============================] - 3s 6ms/step - loss: 3.1823 - accuracy: 0.2066 - val_loss: 3.6464 - val_accuracy: 0.1684\n"
     ]
    }
   ],
   "source": [
    "history = model.fit(x_train,y_train,validation_data=(x_test,y_test),epochs=500,batch_size=100)"
   ]
  },
  {
   "cell_type": "markdown",
   "metadata": {
    "id": "liAW9_j_EC36"
   },
   "source": [
    "Test your model with test data."
   ]
  },
  {
   "cell_type": "code",
   "execution_count": null,
   "metadata": {
    "colab": {
     "base_uri": "https://localhost:8080/"
    },
    "executionInfo": {
     "elapsed": 1524,
     "status": "ok",
     "timestamp": 1666968262800,
     "user": {
      "displayName": "Yaswanth Togarapu",
      "userId": "15517719365717899116"
     },
     "user_tz": -330
    },
    "id": "pj1OK89lEHmq",
    "outputId": "08211696-d200-4d25-f028-c33917c9749b"
   },
   "outputs": [
    {
     "name": "stdout",
     "output_type": "stream",
     "text": [
      "313/313 [==============================] - 1s 3ms/step - loss: 3.6464 - accuracy: 0.1684\n"
     ]
    },
    {
     "data": {
      "text/plain": [
       "[3.6464219093322754, 0.16840000450611115]"
      ]
     },
     "execution_count": 58,
     "metadata": {},
     "output_type": "execute_result"
    }
   ],
   "source": [
    "model.evaluate(x_test,y_test)"
   ]
  },
  {
   "cell_type": "code",
   "execution_count": null,
   "metadata": {
    "colab": {
     "base_uri": "https://localhost:8080/",
     "height": 296
    },
    "executionInfo": {
     "elapsed": 594,
     "status": "ok",
     "timestamp": 1666968533689,
     "user": {
      "displayName": "Yaswanth Togarapu",
      "userId": "15517719365717899116"
     },
     "user_tz": -330
    },
    "id": "h3XwsZu4DTQw",
    "outputId": "82f858cf-7d53-45fd-bdd5-380c246cdf90"
   },
   "outputs": [
    {
     "data": {
      "text/plain": [
       "Text(0, 0.5, 'loss')"
      ]
     },
     "execution_count": 61,
     "metadata": {},
     "output_type": "execute_result"
    },
    {
     "data": {
      "image/png": "[encoded data removed]",
      "text/plain": [
       "<Figure size 432x288 with 1 Axes>"
      ]
     },
     "metadata": {
      "needs_background": "light"
     },
     "output_type": "display_data"
    }
   ],
   "source": [
    "plt.plot(list(range(500)),history.history[\"loss\"])\n",
    "plt.plot(list(range(500)),history.history[\"val_loss\"])\n",
    "\n",
    "plt.xlabel(\"epochs\")\n",
    "plt.ylabel(\"loss\")"
   ]
  },
  {
   "cell_type": "markdown",
   "metadata": {
    "id": "On4dFWsjEI69"
   },
   "source": [
    "Create a model with 5 convolution layer. "
   ]
  },
  {
   "cell_type": "code",
   "execution_count": null,
   "metadata": {
    "id": "eMNOSbcxETj1"
   },
   "outputs": [],
   "source": [
    "model = Sequential([\n",
    "    # CNN Layers\n",
    "    layers.Conv2D(32, (3, 3), activation='relu', kernel_initializer='he_uniform', padding='same', input_shape=(32, 32, 3)),\n",
    "    layers.Conv2D(32, (3, 3), activation='relu', kernel_initializer='he_uniform', padding='same'),\n",
    "    layers.MaxPooling2D((2, 2)),\n",
    "    layers.Conv2D(64, (3, 3), activation='relu', kernel_initializer='he_uniform', padding='same'),\n",
    "    layers.Conv2D(64, (3, 3), activation='relu', kernel_initializer='he_uniform', padding='same'),\n",
    "    layers.MaxPooling2D((2, 2)),\n",
    "    layers.Conv2D(128, (3, 3), activation='relu', kernel_initializer='he_uniform', padding='same'),\n",
    "    layers.Conv2D(128, (3, 3), activation='relu', kernel_initializer='he_uniform', padding='same'),\n",
    "    layers.MaxPooling2D((2, 2)),\n",
    "\n",
    "    # ANN layers\n",
    "    layers.Flatten(),\n",
    "    layers.Dense(100,activation=\"relu\"),\n",
    "    layers.Dense(150,activation=\"relu\"),\n",
    "    layers.Dropout(0.3),\n",
    "    layers.Dense(250,activation=\"relu\"),\n",
    "    layers.Dropout(0.5),\n",
    "    layers.Dense(100,activation=\"softmax\")\n",
    "\n",
    "])\n",
    "\n",
    "model.compile(\n",
    "    optimizer = \"rmsprop\", loss=\"categorical_crossentropy\", metrics=[\"accuracy\"]\n",
    ")"
   ]
  },
  {
   "cell_type": "code",
   "execution_count": 5,
   "metadata": {
    "executionInfo": {
     "elapsed": 368,
     "status": "ok",
     "timestamp": 1667050471080,
     "user": {
      "displayName": "Yaswanth Togarapu",
      "userId": "15517719365717899116"
     },
     "user_tz": -330
    },
    "id": "OjahHkWxMSa1"
   },
   "outputs": [],
   "source": [
    "y_train_cat = tf.keras.utils.to_categorical(y_train, 100)\n",
    "y_test_cat = tf.keras.utils.to_categorical(y_test, 100)\n",
    "x_train_norm = x_train.astype('float32')/255.0\n",
    "x_test_norm = x_test.astype(\"float32\")/255.0"
   ]
  },
  {
   "cell_type": "code",
   "execution_count": null,
   "metadata": {
    "colab": {
     "base_uri": "https://localhost:8080/"
    },
    "executionInfo": {
     "elapsed": 144736,
     "status": "ok",
     "timestamp": 1666971287117,
     "user": {
      "displayName": "Yaswanth Togarapu",
      "userId": "15517719365717899116"
     },
     "user_tz": -330
    },
    "id": "c2uvaBzLKrwD",
    "outputId": "bdcd050a-3a76-4513-c7be-190d3fb640fc"
   },
   "outputs": [
    {
     "name": "stdout",
     "output_type": "stream",
     "text": [
      "Epoch 1/10\n",
      "1563/1563 [==============================] - 21s 8ms/step - loss: 4.1604 - accuracy: 0.0558 - val_loss: 3.8404 - val_accuracy: 0.1085\n",
      "Epoch 2/10\n",
      "1563/1563 [==============================] - 12s 7ms/step - loss: 3.6251 - accuracy: 0.1340 - val_loss: 3.5139 - val_accuracy: 0.1588\n",
      "Epoch 3/10\n",
      "1563/1563 [==============================] - 11s 7ms/step - loss: 3.3439 - accuracy: 0.1842 - val_loss: 3.1538 - val_accuracy: 0.2309\n",
      "Epoch 4/10\n",
      "1563/1563 [==============================] - 12s 7ms/step - loss: 3.1680 - accuracy: 0.2241 - val_loss: 3.0330 - val_accuracy: 0.2563\n",
      "Epoch 5/10\n",
      "1563/1563 [==============================] - 11s 7ms/step - loss: 3.0558 - accuracy: 0.2471 - val_loss: 3.2748 - val_accuracy: 0.2204\n",
      "Epoch 6/10\n",
      "1563/1563 [==============================] - 11s 7ms/step - loss: 2.9784 - accuracy: 0.2640 - val_loss: 2.9298 - val_accuracy: 0.2808\n",
      "Epoch 7/10\n",
      "1563/1563 [==============================] - 11s 7ms/step - loss: 2.9437 - accuracy: 0.2763 - val_loss: 2.8841 - val_accuracy: 0.2800\n",
      "Epoch 8/10\n",
      "1563/1563 [==============================] - 12s 7ms/step - loss: 2.9307 - accuracy: 0.2754 - val_loss: 2.9139 - val_accuracy: 0.2852\n",
      "Epoch 9/10\n",
      "1563/1563 [==============================] - 11s 7ms/step - loss: 2.9706 - accuracy: 0.2739 - val_loss: 2.9055 - val_accuracy: 0.2816\n",
      "Epoch 10/10\n",
      "1563/1563 [==============================] - 11s 7ms/step - loss: 3.0074 - accuracy: 0.2696 - val_loss: 2.9705 - val_accuracy: 0.2667\n"
     ]
    }
   ],
   "source": [
    "history = model.fit(x_train_norm,y_train_cat,validation_data=(x_test_norm,y_test_cat),epochs=10)"
   ]
  },
  {
   "cell_type": "markdown",
   "metadata": {
    "id": "Tks3m_MyEXqa"
   },
   "source": [
    "Test your model with testing data."
   ]
  },
  {
   "cell_type": "code",
   "execution_count": null,
   "metadata": {
    "colab": {
     "base_uri": "https://localhost:8080/"
    },
    "executionInfo": {
     "elapsed": 2340,
     "status": "ok",
     "timestamp": 1666971346778,
     "user": {
      "displayName": "Yaswanth Togarapu",
      "userId": "15517719365717899116"
     },
     "user_tz": -330
    },
    "id": "YOkZKqbCEcdq",
    "outputId": "0d6f7cbc-487d-4403-f27e-a3e0593b0ac5"
   },
   "outputs": [
    {
     "name": "stdout",
     "output_type": "stream",
     "text": [
      "313/313 [==============================] - 2s 5ms/step - loss: 2.9705 - accuracy: 0.2667\n"
     ]
    },
    {
     "data": {
      "text/plain": [
       "[2.9704654216766357, 0.26669999957084656]"
      ]
     },
     "execution_count": 24,
     "metadata": {},
     "output_type": "execute_result"
    }
   ],
   "source": [
    "model.evaluate(x_test_norm,y_test_cat)"
   ]
  },
  {
   "cell_type": "code",
   "execution_count": null,
   "metadata": {
    "colab": {
     "base_uri": "https://localhost:8080/",
     "height": 297
    },
    "executionInfo": {
     "elapsed": 524,
     "status": "ok",
     "timestamp": 1666971376986,
     "user": {
      "displayName": "Yaswanth Togarapu",
      "userId": "15517719365717899116"
     },
     "user_tz": -330
    },
    "id": "wL6zZM2sPE9j",
    "outputId": "ab0e8cee-3130-4946-9e4b-ba9b8199d31f"
   },
   "outputs": [
    {
     "data": {
      "text/plain": [
       "Text(0, 0.5, 'loss')"
      ]
     },
     "execution_count": 25,
     "metadata": {},
     "output_type": "execute_result"
    },
    {
     "data": {
      "image/png": "[encoded data removed]",
      "text/plain": [
       "<Figure size 432x288 with 1 Axes>"
      ]
     },
     "metadata": {
      "needs_background": "light"
     },
     "output_type": "display_data"
    }
   ],
   "source": [
    "plt.plot(list(range(10)),history.history[\"loss\"])\n",
    "plt.plot(list(range(10)),history.history[\"val_loss\"])\n",
    "\n",
    "plt.xlabel(\"epochs\")\n",
    "plt.ylabel(\"loss\")"
   ]
  },
  {
   "cell_type": "markdown",
   "metadata": {
    "id": "K8K4VMkdEcw5"
   },
   "source": [
    "Find best lerning rate decay mechanism test given four methods and find the best mechnism for your problem.\n",
    "\n",
    "1. linear learning rate decay\n",
    "2. exponential learning rate decay\n",
    "3. step wise decay function\n",
    "4. Cyclical learning rates(Trigular method)\n"
   ]
  },
  {
   "cell_type": "code",
   "execution_count": 23,
   "metadata": {
    "executionInfo": {
     "elapsed": 709,
     "status": "ok",
     "timestamp": 1667052397432,
     "user": {
      "displayName": "Yaswanth Togarapu",
      "userId": "15517719365717899116"
     },
     "user_tz": -330
    },
    "id": "6alg124iFZlj"
   },
   "outputs": [],
   "source": [
    "from tensorflow.keras.callbacks import LearningRateScheduler\n",
    "\n",
    "model = Sequential([\n",
    "    # CNN Layers\n",
    "    layers.Conv2D(32, (3, 3), activation='relu', kernel_initializer='he_uniform', padding='same', input_shape=(32, 32, 3)),\n",
    "    layers.Conv2D(32, (3, 3), activation='relu', kernel_initializer='he_uniform', padding='same'),\n",
    "    layers.MaxPooling2D((2, 2)),\n",
    "    layers.Conv2D(64, (3, 3), activation='relu', kernel_initializer='he_uniform', padding='same'),\n",
    "    layers.Conv2D(64, (3, 3), activation='relu', kernel_initializer='he_uniform', padding='same'),\n",
    "    layers.MaxPooling2D((2, 2)),\n",
    "    layers.Conv2D(128, (3, 3), activation='relu', kernel_initializer='he_uniform', padding='same'),\n",
    "    layers.Conv2D(128, (3, 3), activation='relu', kernel_initializer='he_uniform', padding='same'),\n",
    "    layers.MaxPooling2D((2, 2)),\n",
    "\n",
    "    # ANN layers\n",
    "    layers.Flatten(),\n",
    "    layers.Dense(100,activation=\"relu\"),\n",
    "    layers.Dense(150,activation=\"relu\"),\n",
    "    layers.Dropout(0.3),\n",
    "    layers.Dense(250,activation=\"relu\"),\n",
    "    layers.Dropout(0.5),\n",
    "    layers.Dense(100,activation=\"softmax\")\n",
    "\n",
    "])\n"
   ]
  },
  {
   "cell_type": "code",
   "execution_count": 14,
   "metadata": {
    "executionInfo": {
     "elapsed": 2,
     "status": "ok",
     "timestamp": 1667051613267,
     "user": {
      "displayName": "Yaswanth Togarapu",
      "userId": "15517719365717899116"
     },
     "user_tz": -330
    },
    "id": "MpR5Inwb_um_"
   },
   "outputs": [],
   "source": [
    "# Step Decay Decay\n",
    "import math\n",
    "\n",
    "class LossHistory(tf.keras.callbacks.Callback):\n",
    "    def on_train_begin(self, logs={}):\n",
    "       self.losses = []\n",
    "       self.lr = []\n",
    " \n",
    "    def on_epoch_end(self, batch, logs={}):\n",
    "       self.losses.append(logs.get(\"loss\"))\n",
    "       self.lr.append(step_decay(len(self.losses)))\n",
    "\n",
    "\n",
    "def step_decay(epoch):\n",
    "   initial_lrate = 0.1\n",
    "   drop = 0.5\n",
    "   epochs_drop = 10.0\n",
    "   lrate = initial_lrate * math.pow(drop,  \n",
    "           math.floor((1+epoch)/epochs_drop))\n",
    "   return lrate\n",
    "lrate = LearningRateScheduler(step_decay)"
   ]
  },
  {
   "cell_type": "code",
   "execution_count": 15,
   "metadata": {
    "colab": {
     "base_uri": "https://localhost:8080/"
    },
    "executionInfo": {
     "elapsed": 143866,
     "status": "ok",
     "timestamp": 1667051758858,
     "user": {
      "displayName": "Yaswanth Togarapu",
      "userId": "15517719365717899116"
     },
     "user_tz": -330
    },
    "id": "uN6cr6etAZPC",
    "outputId": "acd55851-1717-40b4-bb77-1fbae3b14ecf"
   },
   "outputs": [
    {
     "name": "stdout",
     "output_type": "stream",
     "text": [
      "Epoch 1/10\n",
      "1563/1563 - 9s - loss: 276705.3750 - accuracy: 0.0102 - val_loss: 4.6407 - val_accuracy: 0.0100 - lr: 0.1000 - 9s/epoch - 6ms/step\n",
      "Epoch 2/10\n",
      "1563/1563 - 9s - loss: 4.6481 - accuracy: 0.0104 - val_loss: 4.6503 - val_accuracy: 0.0100 - lr: 0.1000 - 9s/epoch - 6ms/step\n",
      "Epoch 3/10\n",
      "1563/1563 - 9s - loss: 4.6493 - accuracy: 0.0107 - val_loss: 4.6551 - val_accuracy: 0.0100 - lr: 0.1000 - 9s/epoch - 6ms/step\n",
      "Epoch 4/10\n",
      "1563/1563 - 9s - loss: 4.6481 - accuracy: 0.0102 - val_loss: 4.6468 - val_accuracy: 0.0100 - lr: 0.1000 - 9s/epoch - 6ms/step\n",
      "Epoch 5/10\n",
      "1563/1563 - 9s - loss: 4.6486 - accuracy: 0.0092 - val_loss: 4.6456 - val_accuracy: 0.0100 - lr: 0.1000 - 9s/epoch - 6ms/step\n",
      "Epoch 6/10\n",
      "1563/1563 - 9s - loss: 4.6504 - accuracy: 0.0097 - val_loss: 4.6533 - val_accuracy: 0.0100 - lr: 0.1000 - 9s/epoch - 6ms/step\n",
      "Epoch 7/10\n",
      "1563/1563 - 9s - loss: 4.6490 - accuracy: 0.0103 - val_loss: 4.6503 - val_accuracy: 0.0100 - lr: 0.1000 - 9s/epoch - 6ms/step\n",
      "Epoch 8/10\n",
      "1563/1563 - 8s - loss: 4.6506 - accuracy: 0.0089 - val_loss: 4.6455 - val_accuracy: 0.0100 - lr: 0.1000 - 8s/epoch - 5ms/step\n",
      "Epoch 9/10\n",
      "1563/1563 - 9s - loss: 4.6496 - accuracy: 0.0097 - val_loss: 4.6432 - val_accuracy: 0.0100 - lr: 0.1000 - 9s/epoch - 6ms/step\n",
      "Epoch 10/10\n",
      "1563/1563 - 8s - loss: 4.6280 - accuracy: 0.0104 - val_loss: 4.6248 - val_accuracy: 0.0100 - lr: 0.0500 - 8s/epoch - 5ms/step\n"
     ]
    }
   ],
   "source": [
    "loss_history = LossHistory()\n",
    "lrate = LearningRateScheduler(step_decay)\n",
    "callbacks_list = [loss_history, lrate]\n",
    "history = model.fit(x_train_norm, y_train_cat, \n",
    "   validation_data=(x_test_norm, y_test_cat), \n",
    "   epochs=10, \n",
    "   callbacks=callbacks_list, \n",
    "   verbose=2)"
   ]
  },
  {
   "cell_type": "code",
   "execution_count": 17,
   "metadata": {
    "colab": {
     "base_uri": "https://localhost:8080/"
    },
    "executionInfo": {
     "elapsed": 83618,
     "status": "ok",
     "timestamp": 1667052034538,
     "user": {
      "displayName": "Yaswanth Togarapu",
      "userId": "15517719365717899116"
     },
     "user_tz": -330
    },
    "id": "wZhlXNcMBqoe",
    "outputId": "645f051e-96fd-410d-a3b8-9ea192f1d45b"
   },
   "outputs": [
    {
     "name": "stdout",
     "output_type": "stream",
     "text": [
      "\n",
      "Epoch 1: LearningRateScheduler setting learning rate to 0.01.\n",
      "Epoch 1/10\n",
      "625/625 [==============================] - 7s 9ms/step - loss: 4.6154 - accuracy: 0.0095 - val_loss: 4.6107 - val_accuracy: 0.0087 - lr: 0.0100\n",
      "\n",
      "Epoch 2: LearningRateScheduler setting learning rate to 0.009048374180359595.\n",
      "Epoch 2/10\n",
      "625/625 [==============================] - 5s 8ms/step - loss: 4.6086 - accuracy: 0.0089 - val_loss: 4.6103 - val_accuracy: 0.0087 - lr: 0.0090\n",
      "\n",
      "Epoch 3: LearningRateScheduler setting learning rate to 0.008187307530779819.\n",
      "Epoch 3/10\n",
      "625/625 [==============================] - 5s 8ms/step - loss: 4.6082 - accuracy: 0.0093 - val_loss: 4.6096 - val_accuracy: 0.0077 - lr: 0.0082\n",
      "\n",
      "Epoch 4: LearningRateScheduler setting learning rate to 0.007408182206817179.\n",
      "Epoch 4/10\n",
      "625/625 [==============================] - 5s 8ms/step - loss: 4.6081 - accuracy: 0.0104 - val_loss: 4.6075 - val_accuracy: 0.0105 - lr: 0.0074\n",
      "\n",
      "Epoch 5: LearningRateScheduler setting learning rate to 0.006703200460356393.\n",
      "Epoch 5/10\n",
      "625/625 [==============================] - 5s 8ms/step - loss: 4.6078 - accuracy: 0.0093 - val_loss: 4.6090 - val_accuracy: 0.0087 - lr: 0.0067\n",
      "\n",
      "Epoch 6: LearningRateScheduler setting learning rate to 0.006065306597126334.\n",
      "Epoch 6/10\n",
      "625/625 [==============================] - 5s 8ms/step - loss: 4.6075 - accuracy: 0.0096 - val_loss: 4.6095 - val_accuracy: 0.0087 - lr: 0.0061\n",
      "\n",
      "Epoch 7: LearningRateScheduler setting learning rate to 0.005488116360940264.\n",
      "Epoch 7/10\n",
      "625/625 [==============================] - 5s 9ms/step - loss: 4.6074 - accuracy: 0.0096 - val_loss: 4.6082 - val_accuracy: 0.0086 - lr: 0.0055\n",
      "\n",
      "Epoch 8: LearningRateScheduler setting learning rate to 0.004965853037914095.\n",
      "Epoch 8/10\n",
      "625/625 [==============================] - 5s 9ms/step - loss: 4.6072 - accuracy: 0.0093 - val_loss: 4.6089 - val_accuracy: 0.0087 - lr: 0.0050\n",
      "\n",
      "Epoch 9: LearningRateScheduler setting learning rate to 0.004493289641172216.\n",
      "Epoch 9/10\n",
      "625/625 [==============================] - 6s 9ms/step - loss: 4.6069 - accuracy: 0.0096 - val_loss: 4.6083 - val_accuracy: 0.0084 - lr: 0.0045\n",
      "\n",
      "Epoch 10: LearningRateScheduler setting learning rate to 0.004065696597405992.\n",
      "Epoch 10/10\n",
      "625/625 [==============================] - 5s 8ms/step - loss: 4.6068 - accuracy: 0.0090 - val_loss: 4.6086 - val_accuracy: 0.0086 - lr: 0.0041\n"
     ]
    }
   ],
   "source": [
    "# Exponential Decay\n",
    "\n",
    "initial_learning_rate = 0.01\n",
    "def lr_exp_decay(epoch, lr):\n",
    "    k = 0.1\n",
    "    return initial_learning_rate * math.exp(-k*epoch)\n",
    "    \n",
    "# Fit the model to the training data\n",
    "history_exp_decay = model.fit(\n",
    "    x_train_norm, \n",
    "    y_train_cat, \n",
    "    epochs=10, \n",
    "    validation_split=0.2,\n",
    "    batch_size=64,\n",
    "    callbacks=[LearningRateScheduler(lr_exp_decay, verbose=1)],\n",
    ")"
   ]
  },
  {
   "cell_type": "code",
   "execution_count": 20,
   "metadata": {
    "colab": {
     "base_uri": "https://localhost:8080/"
    },
    "executionInfo": {
     "elapsed": 3851,
     "status": "ok",
     "timestamp": 1667052107234,
     "user": {
      "displayName": "Yaswanth Togarapu",
      "userId": "15517719365717899116"
     },
     "user_tz": -330
    },
    "id": "QN0-w_FMC9Rs",
    "outputId": "135320a3-ef15-4369-8057-f7f2697d16f6"
   },
   "outputs": [
    {
     "name": "stdout",
     "output_type": "stream",
     "text": [
      "Looking in indexes: https://pypi.org/simple, https://us-python.pkg.dev/colab-wheels/public/simple/\n",
      "Collecting tensorflow_addons\n",
      "  Downloading tensorflow_addons-0.18.0-cp37-cp37m-manylinux_2_17_x86_64.manylinux2014_x86_64.whl (1.1 MB)\n",
      "\u001b[K     |████████████████████████████████| 1.1 MB 27.9 MB/s \n",
      "\u001b[?25hRequirement already satisfied: packaging in /usr/local/lib/python3.7/dist-packages (from tensorflow_addons) (21.3)\n",
      "Requirement already satisfied: typeguard>=2.7 in /usr/local/lib/python3.7/dist-packages (from tensorflow_addons) (2.7.1)\n",
      "Requirement already satisfied: pyparsing!=3.0.5,>=2.0.2 in /usr/local/lib/python3.7/dist-packages (from packaging->tensorflow_addons) (3.0.9)\n",
      "Installing collected packages: tensorflow-addons\n",
      "Successfully installed tensorflow-addons-0.18.0\n"
     ]
    }
   ],
   "source": [
    "# Cyclic Learning Rates\n",
    "!pip install tensorflow_addons"
   ]
  },
  {
   "cell_type": "code",
   "execution_count": 21,
   "metadata": {
    "executionInfo": {
     "elapsed": 423,
     "status": "ok",
     "timestamp": 1667052357512,
     "user": {
      "displayName": "Yaswanth Togarapu",
      "userId": "15517719365717899116"
     },
     "user_tz": -330
    },
    "id": "WOxNbPu7C_6d"
   },
   "outputs": [],
   "source": [
    "import tensorflow_addons as tfa\n",
    "BATCH_SIZE = 64\n",
    "EPOCHS = 10\n",
    "INIT_LR = 1e-4\n",
    "MAX_LR = 1e-2\n",
    "\n",
    "steps_per_epoch = len(x_train) // BATCH_SIZE\n",
    "clr = tfa.optimizers.CyclicalLearningRate(initial_learning_rate=INIT_LR,\n",
    "    maximal_learning_rate=MAX_LR,\n",
    "    scale_fn=lambda x: 1/(2.**(x-1)),\n",
    "    step_size=2 * steps_per_epoch\n",
    ")\n",
    "optimizer = tf.keras.optimizers.SGD(clr)"
   ]
  },
  {
   "cell_type": "code",
   "execution_count": 24,
   "metadata": {
    "executionInfo": {
     "elapsed": 425,
     "status": "ok",
     "timestamp": 1667052413139,
     "user": {
      "displayName": "Yaswanth Togarapu",
      "userId": "15517719365717899116"
     },
     "user_tz": -330
    },
    "id": "6XwNk_IJEEE2"
   },
   "outputs": [],
   "source": [
    "model.compile(\n",
    "    optimizer=optimizer,loss=\"categorical_crossentropy\",metrics=[\"accuracy\"]\n",
    ")"
   ]
  },
  {
   "cell_type": "code",
   "execution_count": 26,
   "metadata": {
    "colab": {
     "base_uri": "https://localhost:8080/"
    },
    "executionInfo": {
     "elapsed": 694,
     "status": "ok",
     "timestamp": 1667052456402,
     "user": {
      "displayName": "Yaswanth Togarapu",
      "userId": "15517719365717899116"
     },
     "user_tz": -330
    },
    "id": "_jy4fDB0ERrc",
    "outputId": "1c0f67a6-8ef3-44e9-c302-365e4d3015ca"
   },
   "outputs": [
    {
     "name": "stdout",
     "output_type": "stream",
     "text": [
      "Model: \"sequential_5\"\n",
      "_________________________________________________________________\n",
      " Layer (type)                Output Shape              Param #   \n",
      "=================================================================\n",
      " conv2d_30 (Conv2D)          (None, 32, 32, 32)        896       \n",
      "                                                                 \n",
      " conv2d_31 (Conv2D)          (None, 32, 32, 32)        9248      \n",
      "                                                                 \n",
      " max_pooling2d_15 (MaxPoolin  (None, 16, 16, 32)       0         \n",
      " g2D)                                                            \n",
      "                                                                 \n",
      " conv2d_32 (Conv2D)          (None, 16, 16, 64)        18496     \n",
      "                                                                 \n",
      " conv2d_33 (Conv2D)          (None, 16, 16, 64)        36928     \n",
      "                                                                 \n",
      " max_pooling2d_16 (MaxPoolin  (None, 8, 8, 64)         0         \n",
      " g2D)                                                            \n",
      "                                                                 \n",
      " conv2d_34 (Conv2D)          (None, 8, 8, 128)         73856     \n",
      "                                                                 \n",
      " conv2d_35 (Conv2D)          (None, 8, 8, 128)         147584    \n",
      "                                                                 \n",
      " max_pooling2d_17 (MaxPoolin  (None, 4, 4, 128)        0         \n",
      " g2D)                                                            \n",
      "                                                                 \n",
      " flatten_5 (Flatten)         (None, 2048)              0         \n",
      "                                                                 \n",
      " dense_20 (Dense)            (None, 100)               204900    \n",
      "                                                                 \n",
      " dense_21 (Dense)            (None, 150)               15150     \n",
      "                                                                 \n",
      " dropout_10 (Dropout)        (None, 150)               0         \n",
      "                                                                 \n",
      " dense_22 (Dense)            (None, 250)               37750     \n",
      "                                                                 \n",
      " dropout_11 (Dropout)        (None, 250)               0         \n",
      "                                                                 \n",
      " dense_23 (Dense)            (None, 100)               25100     \n",
      "                                                                 \n",
      "=================================================================\n",
      "Total params: 569,908\n",
      "Trainable params: 569,908\n",
      "Non-trainable params: 0\n",
      "_________________________________________________________________\n"
     ]
    }
   ],
   "source": [
    "model.build()\n",
    "model.summary()"
   ]
  },
  {
   "cell_type": "code",
   "execution_count": 27,
   "metadata": {
    "colab": {
     "base_uri": "https://localhost:8080/"
    },
    "executionInfo": {
     "elapsed": 63981,
     "status": "ok",
     "timestamp": 1667052643373,
     "user": {
      "displayName": "Yaswanth Togarapu",
      "userId": "15517719365717899116"
     },
     "user_tz": -330
    },
    "id": "iSqi4wvjEVx7",
    "outputId": "44ff14e0-625c-4f51-c290-2606900cc916"
   },
   "outputs": [
    {
     "name": "stdout",
     "output_type": "stream",
     "text": [
      "Epoch 1/10\n",
      "782/782 [==============================] - 7s 8ms/step - loss: 4.6209 - accuracy: 0.0118\n",
      "Epoch 2/10\n",
      "782/782 [==============================] - 6s 8ms/step - loss: 4.5672 - accuracy: 0.0184\n",
      "Epoch 3/10\n",
      "782/782 [==============================] - 6s 8ms/step - loss: 4.4494 - accuracy: 0.0323\n",
      "Epoch 4/10\n",
      "782/782 [==============================] - 6s 8ms/step - loss: 4.3525 - accuracy: 0.0382\n",
      "Epoch 5/10\n",
      "782/782 [==============================] - 6s 8ms/step - loss: 4.3275 - accuracy: 0.0430\n",
      "Epoch 6/10\n",
      "782/782 [==============================] - 6s 8ms/step - loss: 4.3007 - accuracy: 0.0439\n",
      "Epoch 7/10\n",
      "782/782 [==============================] - 6s 8ms/step - loss: 4.2416 - accuracy: 0.0511\n",
      "Epoch 8/10\n",
      "782/782 [==============================] - 7s 9ms/step - loss: 4.1950 - accuracy: 0.0593\n",
      "Epoch 9/10\n",
      "782/782 [==============================] - 6s 8ms/step - loss: 4.1824 - accuracy: 0.0601\n",
      "Epoch 10/10\n",
      "782/782 [==============================] - 6s 8ms/step - loss: 4.1626 - accuracy: 0.0639\n"
     ]
    },
    {
     "data": {
      "text/plain": [
       "<keras.callbacks.History at 0x7f7c19b79850>"
      ]
     },
     "execution_count": 27,
     "metadata": {},
     "output_type": "execute_result"
    }
   ],
   "source": [
    "model.fit(x_train_norm,y_train_cat,batch_size=BATCH_SIZE,epochs=10)"
   ]
  }
 ],
 "metadata": {
  "accelerator": "GPU",
  "colab": {
   "collapsed_sections": [],
   "provenance": [
    {
     "file_id": "177YYdF0_dhV5EDc0hcenRq34mGYDfaPt",
     "timestamp": 1666963049834
    }
   ]
  },
  "gpuClass": "standard",
  "kernelspec": {
   "display_name": "Python 3",
   "name": "python3"
  },
  "language_info": {
   "name": "python"
  }
 },
 "nbformat": 4,
 "nbformat_minor": 0
}
